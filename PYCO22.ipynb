{
 "cells": [
  {
   "cell_type": "code",
   "execution_count": 107,
   "id": "ad2c1d21",
   "metadata": {},
   "outputs": [],
   "source": [
    "#import the required packages\n",
    "import pandas as pd\n",
    "import numpy as np\n",
    "import matplotlib.pyplot as plt\n",
    "%matplotlib inline"
   ]
  },
  {
   "cell_type": "code",
   "execution_count": 108,
   "id": "11c96b57",
   "metadata": {},
   "outputs": [],
   "source": [
    "#import the dataframe \n",
    "df=pd.read_csv(\"Fraud_Data.csv\")\n"
   ]
  },
  {
   "cell_type": "code",
   "execution_count": 123,
   "id": "cab23c56",
   "metadata": {},
   "outputs": [
    {
     "data": {
      "text/plain": [
       "(151112, 12)"
      ]
     },
     "execution_count": 123,
     "metadata": {},
     "output_type": "execute_result"
    }
   ],
   "source": [
    "df.shape"
   ]
  },
  {
   "cell_type": "code",
   "execution_count": 109,
   "id": "9f0abd01",
   "metadata": {},
   "outputs": [],
   "source": [
    "#check the head\n",
    "#check the tail\n",
    "#check the null value\n",
    "#perform eda \n",
    "# perform data enginnering such as dummy values ,creating new column \n"
   ]
  },
  {
   "cell_type": "code",
   "execution_count": 110,
   "id": "fb771306",
   "metadata": {},
   "outputs": [
    {
     "data": {
      "text/html": [
       "<div>\n",
       "<style scoped>\n",
       "    .dataframe tbody tr th:only-of-type {\n",
       "        vertical-align: middle;\n",
       "    }\n",
       "\n",
       "    .dataframe tbody tr th {\n",
       "        vertical-align: top;\n",
       "    }\n",
       "\n",
       "    .dataframe thead th {\n",
       "        text-align: right;\n",
       "    }\n",
       "</style>\n",
       "<table border=\"1\" class=\"dataframe\">\n",
       "  <thead>\n",
       "    <tr style=\"text-align: right;\">\n",
       "      <th></th>\n",
       "      <th>user_id</th>\n",
       "      <th>signup_time</th>\n",
       "      <th>purchase_time</th>\n",
       "      <th>purchase_value</th>\n",
       "      <th>device_id</th>\n",
       "      <th>source</th>\n",
       "      <th>browser</th>\n",
       "      <th>sex</th>\n",
       "      <th>age</th>\n",
       "      <th>ip_address</th>\n",
       "      <th>class</th>\n",
       "    </tr>\n",
       "  </thead>\n",
       "  <tbody>\n",
       "    <tr>\n",
       "      <th>0</th>\n",
       "      <td>22058</td>\n",
       "      <td>24-02-2015 22:55</td>\n",
       "      <td>18-04-2015 02:47</td>\n",
       "      <td>34</td>\n",
       "      <td>QVPSPJUOCKZAR</td>\n",
       "      <td>SEO</td>\n",
       "      <td>Chrome</td>\n",
       "      <td>M</td>\n",
       "      <td>39</td>\n",
       "      <td>7.327584e+08</td>\n",
       "      <td>0</td>\n",
       "    </tr>\n",
       "    <tr>\n",
       "      <th>1</th>\n",
       "      <td>333320</td>\n",
       "      <td>07-06-2015 20:39</td>\n",
       "      <td>08-06-2015 01:38</td>\n",
       "      <td>16</td>\n",
       "      <td>EOGFQPIZPYXFZ</td>\n",
       "      <td>Ads</td>\n",
       "      <td>Chrome</td>\n",
       "      <td>F</td>\n",
       "      <td>53</td>\n",
       "      <td>3.503114e+08</td>\n",
       "      <td>0</td>\n",
       "    </tr>\n",
       "    <tr>\n",
       "      <th>2</th>\n",
       "      <td>1359</td>\n",
       "      <td>01-01-2015 18:52</td>\n",
       "      <td>01-01-2015 18:52</td>\n",
       "      <td>15</td>\n",
       "      <td>YSSKYOSJHPPLJ</td>\n",
       "      <td>SEO</td>\n",
       "      <td>Opera</td>\n",
       "      <td>M</td>\n",
       "      <td>53</td>\n",
       "      <td>2.621474e+09</td>\n",
       "      <td>1</td>\n",
       "    </tr>\n",
       "    <tr>\n",
       "      <th>3</th>\n",
       "      <td>150084</td>\n",
       "      <td>28-04-2015 21:13</td>\n",
       "      <td>04-05-2015 13:54</td>\n",
       "      <td>44</td>\n",
       "      <td>ATGTXKYKUDUQN</td>\n",
       "      <td>SEO</td>\n",
       "      <td>Safari</td>\n",
       "      <td>M</td>\n",
       "      <td>41</td>\n",
       "      <td>3.840542e+09</td>\n",
       "      <td>0</td>\n",
       "    </tr>\n",
       "    <tr>\n",
       "      <th>4</th>\n",
       "      <td>221365</td>\n",
       "      <td>21-07-2015 07:09</td>\n",
       "      <td>09-09-2015 18:40</td>\n",
       "      <td>39</td>\n",
       "      <td>NAUITBZFJKHWW</td>\n",
       "      <td>Ads</td>\n",
       "      <td>Safari</td>\n",
       "      <td>M</td>\n",
       "      <td>45</td>\n",
       "      <td>4.155831e+08</td>\n",
       "      <td>0</td>\n",
       "    </tr>\n",
       "  </tbody>\n",
       "</table>\n",
       "</div>"
      ],
      "text/plain": [
       "   user_id       signup_time     purchase_time  purchase_value      device_id  \\\n",
       "0    22058  24-02-2015 22:55  18-04-2015 02:47              34  QVPSPJUOCKZAR   \n",
       "1   333320  07-06-2015 20:39  08-06-2015 01:38              16  EOGFQPIZPYXFZ   \n",
       "2     1359  01-01-2015 18:52  01-01-2015 18:52              15  YSSKYOSJHPPLJ   \n",
       "3   150084  28-04-2015 21:13  04-05-2015 13:54              44  ATGTXKYKUDUQN   \n",
       "4   221365  21-07-2015 07:09  09-09-2015 18:40              39  NAUITBZFJKHWW   \n",
       "\n",
       "  source browser sex  age    ip_address  class  \n",
       "0    SEO  Chrome   M   39  7.327584e+08      0  \n",
       "1    Ads  Chrome   F   53  3.503114e+08      0  \n",
       "2    SEO   Opera   M   53  2.621474e+09      1  \n",
       "3    SEO  Safari   M   41  3.840542e+09      0  \n",
       "4    Ads  Safari   M   45  4.155831e+08      0  "
      ]
     },
     "execution_count": 110,
     "metadata": {},
     "output_type": "execute_result"
    }
   ],
   "source": [
    "df.head()"
   ]
  },
  {
   "cell_type": "code",
   "execution_count": 111,
   "id": "ed463f92",
   "metadata": {},
   "outputs": [
    {
     "data": {
      "text/html": [
       "<div>\n",
       "<style scoped>\n",
       "    .dataframe tbody tr th:only-of-type {\n",
       "        vertical-align: middle;\n",
       "    }\n",
       "\n",
       "    .dataframe tbody tr th {\n",
       "        vertical-align: top;\n",
       "    }\n",
       "\n",
       "    .dataframe thead th {\n",
       "        text-align: right;\n",
       "    }\n",
       "</style>\n",
       "<table border=\"1\" class=\"dataframe\">\n",
       "  <thead>\n",
       "    <tr style=\"text-align: right;\">\n",
       "      <th></th>\n",
       "      <th>user_id</th>\n",
       "      <th>signup_time</th>\n",
       "      <th>purchase_time</th>\n",
       "      <th>purchase_value</th>\n",
       "      <th>device_id</th>\n",
       "      <th>source</th>\n",
       "      <th>browser</th>\n",
       "      <th>sex</th>\n",
       "      <th>age</th>\n",
       "      <th>ip_address</th>\n",
       "      <th>class</th>\n",
       "    </tr>\n",
       "  </thead>\n",
       "  <tbody>\n",
       "    <tr>\n",
       "      <th>151107</th>\n",
       "      <td>345170</td>\n",
       "      <td>27-01-2015 03:03</td>\n",
       "      <td>29-03-2015 00:30</td>\n",
       "      <td>43</td>\n",
       "      <td>XPSKTWGPWINLR</td>\n",
       "      <td>SEO</td>\n",
       "      <td>Chrome</td>\n",
       "      <td>M</td>\n",
       "      <td>28</td>\n",
       "      <td>3.451155e+09</td>\n",
       "      <td>1</td>\n",
       "    </tr>\n",
       "    <tr>\n",
       "      <th>151108</th>\n",
       "      <td>274471</td>\n",
       "      <td>15-05-2015 17:43</td>\n",
       "      <td>26-05-2015 12:24</td>\n",
       "      <td>35</td>\n",
       "      <td>LYSFABUCPCGBA</td>\n",
       "      <td>SEO</td>\n",
       "      <td>Safari</td>\n",
       "      <td>M</td>\n",
       "      <td>32</td>\n",
       "      <td>2.439047e+09</td>\n",
       "      <td>0</td>\n",
       "    </tr>\n",
       "    <tr>\n",
       "      <th>151109</th>\n",
       "      <td>368416</td>\n",
       "      <td>03-03-2015 23:07</td>\n",
       "      <td>20-05-2015 07:07</td>\n",
       "      <td>40</td>\n",
       "      <td>MEQHCSJUBRBFE</td>\n",
       "      <td>SEO</td>\n",
       "      <td>IE</td>\n",
       "      <td>F</td>\n",
       "      <td>26</td>\n",
       "      <td>2.748471e+09</td>\n",
       "      <td>0</td>\n",
       "    </tr>\n",
       "    <tr>\n",
       "      <th>151110</th>\n",
       "      <td>207709</td>\n",
       "      <td>09-07-2015 20:06</td>\n",
       "      <td>07-09-2015 09:34</td>\n",
       "      <td>46</td>\n",
       "      <td>CMCXFGRHYSTVJ</td>\n",
       "      <td>SEO</td>\n",
       "      <td>Chrome</td>\n",
       "      <td>M</td>\n",
       "      <td>37</td>\n",
       "      <td>3.601175e+09</td>\n",
       "      <td>0</td>\n",
       "    </tr>\n",
       "    <tr>\n",
       "      <th>151111</th>\n",
       "      <td>138208</td>\n",
       "      <td>10-06-2015 07:02</td>\n",
       "      <td>21-07-2015 02:03</td>\n",
       "      <td>20</td>\n",
       "      <td>ZINIADFCLHYPG</td>\n",
       "      <td>Direct</td>\n",
       "      <td>IE</td>\n",
       "      <td>M</td>\n",
       "      <td>38</td>\n",
       "      <td>4.103825e+09</td>\n",
       "      <td>0</td>\n",
       "    </tr>\n",
       "  </tbody>\n",
       "</table>\n",
       "</div>"
      ],
      "text/plain": [
       "        user_id       signup_time     purchase_time  purchase_value  \\\n",
       "151107   345170  27-01-2015 03:03  29-03-2015 00:30              43   \n",
       "151108   274471  15-05-2015 17:43  26-05-2015 12:24              35   \n",
       "151109   368416  03-03-2015 23:07  20-05-2015 07:07              40   \n",
       "151110   207709  09-07-2015 20:06  07-09-2015 09:34              46   \n",
       "151111   138208  10-06-2015 07:02  21-07-2015 02:03              20   \n",
       "\n",
       "            device_id  source browser sex  age    ip_address  class  \n",
       "151107  XPSKTWGPWINLR     SEO  Chrome   M   28  3.451155e+09      1  \n",
       "151108  LYSFABUCPCGBA     SEO  Safari   M   32  2.439047e+09      0  \n",
       "151109  MEQHCSJUBRBFE     SEO      IE   F   26  2.748471e+09      0  \n",
       "151110  CMCXFGRHYSTVJ     SEO  Chrome   M   37  3.601175e+09      0  \n",
       "151111  ZINIADFCLHYPG  Direct      IE   M   38  4.103825e+09      0  "
      ]
     },
     "execution_count": 111,
     "metadata": {},
     "output_type": "execute_result"
    }
   ],
   "source": [
    "df.tail()"
   ]
  },
  {
   "cell_type": "code",
   "execution_count": 112,
   "id": "2b273ed7",
   "metadata": {},
   "outputs": [
    {
     "name": "stdout",
     "output_type": "stream",
     "text": [
      "<class 'pandas.core.frame.DataFrame'>\n",
      "RangeIndex: 151112 entries, 0 to 151111\n",
      "Data columns (total 11 columns):\n",
      " #   Column          Non-Null Count   Dtype  \n",
      "---  ------          --------------   -----  \n",
      " 0   user_id         151112 non-null  int64  \n",
      " 1   signup_time     151112 non-null  object \n",
      " 2   purchase_time   151112 non-null  object \n",
      " 3   purchase_value  151112 non-null  int64  \n",
      " 4   device_id       151112 non-null  object \n",
      " 5   source          151112 non-null  object \n",
      " 6   browser         151112 non-null  object \n",
      " 7   sex             151112 non-null  object \n",
      " 8   age             151112 non-null  int64  \n",
      " 9   ip_address      151112 non-null  float64\n",
      " 10  class           151112 non-null  int64  \n",
      "dtypes: float64(1), int64(4), object(6)\n",
      "memory usage: 12.7+ MB\n"
     ]
    }
   ],
   "source": [
    "df.info()"
   ]
  },
  {
   "cell_type": "code",
   "execution_count": 113,
   "id": "3c4f0e05",
   "metadata": {},
   "outputs": [
    {
     "data": {
      "text/html": [
       "<div>\n",
       "<style scoped>\n",
       "    .dataframe tbody tr th:only-of-type {\n",
       "        vertical-align: middle;\n",
       "    }\n",
       "\n",
       "    .dataframe tbody tr th {\n",
       "        vertical-align: top;\n",
       "    }\n",
       "\n",
       "    .dataframe thead th {\n",
       "        text-align: right;\n",
       "    }\n",
       "</style>\n",
       "<table border=\"1\" class=\"dataframe\">\n",
       "  <thead>\n",
       "    <tr style=\"text-align: right;\">\n",
       "      <th></th>\n",
       "      <th>user_id</th>\n",
       "      <th>signup_time</th>\n",
       "      <th>purchase_time</th>\n",
       "      <th>purchase_value</th>\n",
       "      <th>device_id</th>\n",
       "      <th>source</th>\n",
       "      <th>browser</th>\n",
       "      <th>sex</th>\n",
       "      <th>age</th>\n",
       "      <th>ip_address</th>\n",
       "      <th>class</th>\n",
       "    </tr>\n",
       "  </thead>\n",
       "  <tbody>\n",
       "    <tr>\n",
       "      <th>count</th>\n",
       "      <td>151112.000000</td>\n",
       "      <td>151112</td>\n",
       "      <td>151112</td>\n",
       "      <td>151112.000000</td>\n",
       "      <td>151112</td>\n",
       "      <td>151112</td>\n",
       "      <td>151112</td>\n",
       "      <td>151112</td>\n",
       "      <td>151112.000000</td>\n",
       "      <td>1.511120e+05</td>\n",
       "      <td>151112.000000</td>\n",
       "    </tr>\n",
       "    <tr>\n",
       "      <th>unique</th>\n",
       "      <td>NaN</td>\n",
       "      <td>135572</td>\n",
       "      <td>121599</td>\n",
       "      <td>NaN</td>\n",
       "      <td>137956</td>\n",
       "      <td>3</td>\n",
       "      <td>5</td>\n",
       "      <td>2</td>\n",
       "      <td>NaN</td>\n",
       "      <td>NaN</td>\n",
       "      <td>NaN</td>\n",
       "    </tr>\n",
       "    <tr>\n",
       "      <th>top</th>\n",
       "      <td>NaN</td>\n",
       "      <td>06-01-2015 12:10</td>\n",
       "      <td>06-01-2015 12:10</td>\n",
       "      <td>NaN</td>\n",
       "      <td>EQYVNEGOFLAWK</td>\n",
       "      <td>SEO</td>\n",
       "      <td>Chrome</td>\n",
       "      <td>M</td>\n",
       "      <td>NaN</td>\n",
       "      <td>NaN</td>\n",
       "      <td>NaN</td>\n",
       "    </tr>\n",
       "    <tr>\n",
       "      <th>freq</th>\n",
       "      <td>NaN</td>\n",
       "      <td>29</td>\n",
       "      <td>27</td>\n",
       "      <td>NaN</td>\n",
       "      <td>20</td>\n",
       "      <td>60615</td>\n",
       "      <td>61432</td>\n",
       "      <td>88293</td>\n",
       "      <td>NaN</td>\n",
       "      <td>NaN</td>\n",
       "      <td>NaN</td>\n",
       "    </tr>\n",
       "    <tr>\n",
       "      <th>mean</th>\n",
       "      <td>200171.040970</td>\n",
       "      <td>NaN</td>\n",
       "      <td>NaN</td>\n",
       "      <td>36.935372</td>\n",
       "      <td>NaN</td>\n",
       "      <td>NaN</td>\n",
       "      <td>NaN</td>\n",
       "      <td>NaN</td>\n",
       "      <td>33.140704</td>\n",
       "      <td>2.152145e+09</td>\n",
       "      <td>0.093646</td>\n",
       "    </tr>\n",
       "    <tr>\n",
       "      <th>std</th>\n",
       "      <td>115369.285024</td>\n",
       "      <td>NaN</td>\n",
       "      <td>NaN</td>\n",
       "      <td>18.322762</td>\n",
       "      <td>NaN</td>\n",
       "      <td>NaN</td>\n",
       "      <td>NaN</td>\n",
       "      <td>NaN</td>\n",
       "      <td>8.617733</td>\n",
       "      <td>1.248497e+09</td>\n",
       "      <td>0.291336</td>\n",
       "    </tr>\n",
       "    <tr>\n",
       "      <th>min</th>\n",
       "      <td>2.000000</td>\n",
       "      <td>NaN</td>\n",
       "      <td>NaN</td>\n",
       "      <td>9.000000</td>\n",
       "      <td>NaN</td>\n",
       "      <td>NaN</td>\n",
       "      <td>NaN</td>\n",
       "      <td>NaN</td>\n",
       "      <td>18.000000</td>\n",
       "      <td>5.209350e+04</td>\n",
       "      <td>0.000000</td>\n",
       "    </tr>\n",
       "    <tr>\n",
       "      <th>25%</th>\n",
       "      <td>100642.500000</td>\n",
       "      <td>NaN</td>\n",
       "      <td>NaN</td>\n",
       "      <td>22.000000</td>\n",
       "      <td>NaN</td>\n",
       "      <td>NaN</td>\n",
       "      <td>NaN</td>\n",
       "      <td>NaN</td>\n",
       "      <td>27.000000</td>\n",
       "      <td>1.085934e+09</td>\n",
       "      <td>0.000000</td>\n",
       "    </tr>\n",
       "    <tr>\n",
       "      <th>50%</th>\n",
       "      <td>199958.000000</td>\n",
       "      <td>NaN</td>\n",
       "      <td>NaN</td>\n",
       "      <td>35.000000</td>\n",
       "      <td>NaN</td>\n",
       "      <td>NaN</td>\n",
       "      <td>NaN</td>\n",
       "      <td>NaN</td>\n",
       "      <td>33.000000</td>\n",
       "      <td>2.154770e+09</td>\n",
       "      <td>0.000000</td>\n",
       "    </tr>\n",
       "    <tr>\n",
       "      <th>75%</th>\n",
       "      <td>300054.000000</td>\n",
       "      <td>NaN</td>\n",
       "      <td>NaN</td>\n",
       "      <td>49.000000</td>\n",
       "      <td>NaN</td>\n",
       "      <td>NaN</td>\n",
       "      <td>NaN</td>\n",
       "      <td>NaN</td>\n",
       "      <td>39.000000</td>\n",
       "      <td>3.243258e+09</td>\n",
       "      <td>0.000000</td>\n",
       "    </tr>\n",
       "    <tr>\n",
       "      <th>max</th>\n",
       "      <td>400000.000000</td>\n",
       "      <td>NaN</td>\n",
       "      <td>NaN</td>\n",
       "      <td>154.000000</td>\n",
       "      <td>NaN</td>\n",
       "      <td>NaN</td>\n",
       "      <td>NaN</td>\n",
       "      <td>NaN</td>\n",
       "      <td>76.000000</td>\n",
       "      <td>4.294850e+09</td>\n",
       "      <td>1.000000</td>\n",
       "    </tr>\n",
       "  </tbody>\n",
       "</table>\n",
       "</div>"
      ],
      "text/plain": [
       "              user_id       signup_time     purchase_time  purchase_value  \\\n",
       "count   151112.000000            151112            151112   151112.000000   \n",
       "unique            NaN            135572            121599             NaN   \n",
       "top               NaN  06-01-2015 12:10  06-01-2015 12:10             NaN   \n",
       "freq              NaN                29                27             NaN   \n",
       "mean    200171.040970               NaN               NaN       36.935372   \n",
       "std     115369.285024               NaN               NaN       18.322762   \n",
       "min          2.000000               NaN               NaN        9.000000   \n",
       "25%     100642.500000               NaN               NaN       22.000000   \n",
       "50%     199958.000000               NaN               NaN       35.000000   \n",
       "75%     300054.000000               NaN               NaN       49.000000   \n",
       "max     400000.000000               NaN               NaN      154.000000   \n",
       "\n",
       "            device_id  source browser     sex            age    ip_address  \\\n",
       "count          151112  151112  151112  151112  151112.000000  1.511120e+05   \n",
       "unique         137956       3       5       2            NaN           NaN   \n",
       "top     EQYVNEGOFLAWK     SEO  Chrome       M            NaN           NaN   \n",
       "freq               20   60615   61432   88293            NaN           NaN   \n",
       "mean              NaN     NaN     NaN     NaN      33.140704  2.152145e+09   \n",
       "std               NaN     NaN     NaN     NaN       8.617733  1.248497e+09   \n",
       "min               NaN     NaN     NaN     NaN      18.000000  5.209350e+04   \n",
       "25%               NaN     NaN     NaN     NaN      27.000000  1.085934e+09   \n",
       "50%               NaN     NaN     NaN     NaN      33.000000  2.154770e+09   \n",
       "75%               NaN     NaN     NaN     NaN      39.000000  3.243258e+09   \n",
       "max               NaN     NaN     NaN     NaN      76.000000  4.294850e+09   \n",
       "\n",
       "                class  \n",
       "count   151112.000000  \n",
       "unique            NaN  \n",
       "top               NaN  \n",
       "freq              NaN  \n",
       "mean         0.093646  \n",
       "std          0.291336  \n",
       "min          0.000000  \n",
       "25%          0.000000  \n",
       "50%          0.000000  \n",
       "75%          0.000000  \n",
       "max          1.000000  "
      ]
     },
     "execution_count": 113,
     "metadata": {},
     "output_type": "execute_result"
    }
   ],
   "source": [
    "df.describe(include='all')"
   ]
  },
  {
   "cell_type": "code",
   "execution_count": 114,
   "id": "725a6157",
   "metadata": {},
   "outputs": [
    {
     "data": {
      "text/plain": [
       "user_id           0\n",
       "signup_time       0\n",
       "purchase_time     0\n",
       "purchase_value    0\n",
       "device_id         0\n",
       "source            0\n",
       "browser           0\n",
       "sex               0\n",
       "age               0\n",
       "ip_address        0\n",
       "class             0\n",
       "dtype: int64"
      ]
     },
     "execution_count": 114,
     "metadata": {},
     "output_type": "execute_result"
    }
   ],
   "source": [
    "#check for the null values\n",
    "df.isnull().sum()"
   ]
  },
  {
   "cell_type": "code",
   "execution_count": 115,
   "id": "03843ba8",
   "metadata": {},
   "outputs": [
    {
     "data": {
      "text/plain": [
       "Index(['user_id', 'signup_time', 'purchase_time', 'purchase_value',\n",
       "       'device_id', 'source', 'browser', 'sex', 'age', 'ip_address', 'class'],\n",
       "      dtype='object')"
      ]
     },
     "execution_count": 115,
     "metadata": {},
     "output_type": "execute_result"
    }
   ],
   "source": [
    "#the columns\n",
    "df.columns"
   ]
  },
  {
   "cell_type": "code",
   "execution_count": 116,
   "id": "cf387c95",
   "metadata": {},
   "outputs": [
    {
     "data": {
      "text/plain": [
       "(151112, 11)"
      ]
     },
     "execution_count": 116,
     "metadata": {},
     "output_type": "execute_result"
    }
   ],
   "source": [
    "# shape of the dataset\n",
    "df.shape"
   ]
  },
  {
   "cell_type": "code",
   "execution_count": 117,
   "id": "199e9d30",
   "metadata": {},
   "outputs": [
    {
     "data": {
      "text/plain": [
       "0    136961\n",
       "1     14151\n",
       "Name: class, dtype: int64"
      ]
     },
     "execution_count": 117,
     "metadata": {},
     "output_type": "execute_result"
    }
   ],
   "source": [
    "# Lets us see the distict count on target variable\n",
    "df['class'].value_counts()"
   ]
  },
  {
   "cell_type": "code",
   "execution_count": 118,
   "id": "e7538fa4",
   "metadata": {},
   "outputs": [],
   "source": [
    "#convert to datetime\n",
    "import datetime as dt\n",
    "\n",
    "df['signup_time'] = pd.to_datetime(df['signup_time'])\n",
    "df['purchase_time'] = pd.to_datetime(df['purchase_time'])"
   ]
  },
  {
   "cell_type": "code",
   "execution_count": 119,
   "id": "f101d280",
   "metadata": {},
   "outputs": [
    {
     "data": {
      "text/plain": [
       "user_id                    int64\n",
       "signup_time       datetime64[ns]\n",
       "purchase_time     datetime64[ns]\n",
       "purchase_value             int64\n",
       "device_id                 object\n",
       "source                    object\n",
       "browser                   object\n",
       "sex                       object\n",
       "age                        int64\n",
       "ip_address               float64\n",
       "class                      int64\n",
       "dtype: object"
      ]
     },
     "execution_count": 119,
     "metadata": {},
     "output_type": "execute_result"
    }
   ],
   "source": [
    "#check for the datatypes\n",
    "df.dtypes"
   ]
  },
  {
   "cell_type": "code",
   "execution_count": 124,
   "id": "ec5410d0",
   "metadata": {},
   "outputs": [],
   "source": [
    "# time to buy in days\n",
    "df['time_to_buy'] = (df['purchase_time'] - df['signup_time']).dt.days"
   ]
  },
  {
   "cell_type": "code",
   "execution_count": 125,
   "id": "0b9733f7",
   "metadata": {},
   "outputs": [
    {
     "data": {
      "text/plain": [
       "user_id                        255985\n",
       "signup_time       2015-02-02 06:43:00\n",
       "purchase_time     2015-02-14 10:20:00\n",
       "purchase_value                    154\n",
       "device_id               CGBFIRLRNKSVH\n",
       "source                            SEO\n",
       "browser                        Safari\n",
       "sex                                 M\n",
       "age                                26\n",
       "ip_address               1334137264.0\n",
       "class                               0\n",
       "time_to_buy                        12\n",
       "Name: 17668, dtype: object"
      ]
     },
     "execution_count": 125,
     "metadata": {},
     "output_type": "execute_result"
    }
   ],
   "source": [
    "#Let us find the month which has max purchase value\n",
    "df_month=df['purchase_value'].idxmax()\n",
    "df.iloc[17668,:]"
   ]
  },
  {
   "cell_type": "code",
   "execution_count": 127,
   "id": "ef1b8294",
   "metadata": {},
   "outputs": [
    {
     "data": {
      "text/html": [
       "<div>\n",
       "<style scoped>\n",
       "    .dataframe tbody tr th:only-of-type {\n",
       "        vertical-align: middle;\n",
       "    }\n",
       "\n",
       "    .dataframe tbody tr th {\n",
       "        vertical-align: top;\n",
       "    }\n",
       "\n",
       "    .dataframe thead th {\n",
       "        text-align: right;\n",
       "    }\n",
       "</style>\n",
       "<table border=\"1\" class=\"dataframe\">\n",
       "  <thead>\n",
       "    <tr style=\"text-align: right;\">\n",
       "      <th></th>\n",
       "      <th>user_id</th>\n",
       "      <th>signup_time</th>\n",
       "      <th>purchase_time</th>\n",
       "      <th>purchase_value</th>\n",
       "      <th>device_id</th>\n",
       "      <th>source</th>\n",
       "      <th>browser</th>\n",
       "      <th>sex</th>\n",
       "      <th>age</th>\n",
       "      <th>ip_address</th>\n",
       "      <th>class</th>\n",
       "      <th>time_to_buy</th>\n",
       "    </tr>\n",
       "  </thead>\n",
       "  <tbody>\n",
       "    <tr>\n",
       "      <th>0</th>\n",
       "      <td>22058</td>\n",
       "      <td>2015-02-24 22:55:00</td>\n",
       "      <td>2015-04-18 02:47:00</td>\n",
       "      <td>34</td>\n",
       "      <td>QVPSPJUOCKZAR</td>\n",
       "      <td>SEO</td>\n",
       "      <td>Chrome</td>\n",
       "      <td>M</td>\n",
       "      <td>39</td>\n",
       "      <td>7.327584e+08</td>\n",
       "      <td>0</td>\n",
       "      <td>52</td>\n",
       "    </tr>\n",
       "    <tr>\n",
       "      <th>1</th>\n",
       "      <td>333320</td>\n",
       "      <td>2015-07-06 20:39:00</td>\n",
       "      <td>2015-08-06 01:38:00</td>\n",
       "      <td>16</td>\n",
       "      <td>EOGFQPIZPYXFZ</td>\n",
       "      <td>Ads</td>\n",
       "      <td>Chrome</td>\n",
       "      <td>F</td>\n",
       "      <td>53</td>\n",
       "      <td>3.503114e+08</td>\n",
       "      <td>0</td>\n",
       "      <td>30</td>\n",
       "    </tr>\n",
       "    <tr>\n",
       "      <th>2</th>\n",
       "      <td>1359</td>\n",
       "      <td>2015-01-01 18:52:00</td>\n",
       "      <td>2015-01-01 18:52:00</td>\n",
       "      <td>15</td>\n",
       "      <td>YSSKYOSJHPPLJ</td>\n",
       "      <td>SEO</td>\n",
       "      <td>Opera</td>\n",
       "      <td>M</td>\n",
       "      <td>53</td>\n",
       "      <td>2.621474e+09</td>\n",
       "      <td>1</td>\n",
       "      <td>0</td>\n",
       "    </tr>\n",
       "    <tr>\n",
       "      <th>3</th>\n",
       "      <td>150084</td>\n",
       "      <td>2015-04-28 21:13:00</td>\n",
       "      <td>2015-04-05 13:54:00</td>\n",
       "      <td>44</td>\n",
       "      <td>ATGTXKYKUDUQN</td>\n",
       "      <td>SEO</td>\n",
       "      <td>Safari</td>\n",
       "      <td>M</td>\n",
       "      <td>41</td>\n",
       "      <td>3.840542e+09</td>\n",
       "      <td>0</td>\n",
       "      <td>-24</td>\n",
       "    </tr>\n",
       "    <tr>\n",
       "      <th>4</th>\n",
       "      <td>221365</td>\n",
       "      <td>2015-07-21 07:09:00</td>\n",
       "      <td>2015-09-09 18:40:00</td>\n",
       "      <td>39</td>\n",
       "      <td>NAUITBZFJKHWW</td>\n",
       "      <td>Ads</td>\n",
       "      <td>Safari</td>\n",
       "      <td>M</td>\n",
       "      <td>45</td>\n",
       "      <td>4.155831e+08</td>\n",
       "      <td>0</td>\n",
       "      <td>50</td>\n",
       "    </tr>\n",
       "  </tbody>\n",
       "</table>\n",
       "</div>"
      ],
      "text/plain": [
       "   user_id         signup_time       purchase_time  purchase_value  \\\n",
       "0    22058 2015-02-24 22:55:00 2015-04-18 02:47:00              34   \n",
       "1   333320 2015-07-06 20:39:00 2015-08-06 01:38:00              16   \n",
       "2     1359 2015-01-01 18:52:00 2015-01-01 18:52:00              15   \n",
       "3   150084 2015-04-28 21:13:00 2015-04-05 13:54:00              44   \n",
       "4   221365 2015-07-21 07:09:00 2015-09-09 18:40:00              39   \n",
       "\n",
       "       device_id source browser sex  age    ip_address  class  time_to_buy  \n",
       "0  QVPSPJUOCKZAR    SEO  Chrome   M   39  7.327584e+08      0           52  \n",
       "1  EOGFQPIZPYXFZ    Ads  Chrome   F   53  3.503114e+08      0           30  \n",
       "2  YSSKYOSJHPPLJ    SEO   Opera   M   53  2.621474e+09      1            0  \n",
       "3  ATGTXKYKUDUQN    SEO  Safari   M   41  3.840542e+09      0          -24  \n",
       "4  NAUITBZFJKHWW    Ads  Safari   M   45  4.155831e+08      0           50  "
      ]
     },
     "execution_count": 127,
     "metadata": {},
     "output_type": "execute_result"
    }
   ],
   "source": [
    "df.head()"
   ]
  },
  {
   "cell_type": "markdown",
   "id": "b456dfa1",
   "metadata": {},
   "source": [
    "# eda on time to buy vs purchase value (6 bins)"
   ]
  },
  {
   "cell_type": "code",
   "execution_count": 128,
   "id": "f31b6fc3",
   "metadata": {},
   "outputs": [],
   "source": [
    "#eda on time to buy vs purchase value (6 bins)\n",
    "df_time_purchase=df[['purchase_value','time_to_buy','user_id']]"
   ]
  },
  {
   "cell_type": "code",
   "execution_count": 129,
   "id": "bba21696",
   "metadata": {},
   "outputs": [],
   "source": [
    "df_purchase_o_25=df_time_purchase[df_time_purchase['purchase_value']<25]\n",
    "df_purchase_25_50=df_time_purchase[(df_time_purchase['purchase_value']>25) & (df_time_purchase['purchase_value']<=50)]\n",
    "df_purchase_50_75=df_time_purchase[(df_time_purchase['purchase_value']>50) & (df_time_purchase['purchase_value']<=75)]\n",
    "df_purchase_75_100=df_time_purchase[(df_time_purchase['purchase_value']>75) & (df_time_purchase['purchase_value']<=100)]\n",
    "df_purchase_100_125=df_time_purchase[(df_time_purchase['purchase_value']>100) & (df_time_purchase['purchase_value']<=125)]\n",
    "df_purchase_125_160=df_time_purchase[(df_time_purchase['purchase_value']>125) & (df_time_purchase['purchase_value']<=160)]"
   ]
  },
  {
   "cell_type": "code",
   "execution_count": 130,
   "id": "6a24ec15",
   "metadata": {},
   "outputs": [
    {
     "name": "stdout",
     "output_type": "stream",
     "text": [
      " For a purchase value between 0 to 25 , the max days taken to buy is 337\n",
      " For a purchase value between 0 to 25 , the min days taken to buy is -334\n",
      " For a purchase value between 0 to 25 , the avergae days taken to buy is 32.38170960664118\n",
      " For a purchase value between 0 to 25 , the count of Customers is  44209\n"
     ]
    }
   ],
   "source": [
    "#for each group lets calculate the min .max,mean time to buy days \n",
    "print(\" For a purchase value between 0 to 25 , the max days taken to buy is {a}\".format(a=df_purchase_o_25['time_to_buy'].max()))\n",
    "print(\" For a purchase value between 0 to 25 , the min days taken to buy is {a}\".format(a=df_purchase_o_25['time_to_buy'].min()))\n",
    "print(\" For a purchase value between 0 to 25 , the avergae days taken to buy is {a}\".format(a=df_purchase_o_25['time_to_buy'].mean()))\n",
    "print(\" For a purchase value between 0 to 25 , the count of Customers is  {a}\".format(a=df_purchase_o_25['user_id'].count()))\n"
   ]
  },
  {
   "cell_type": "code",
   "execution_count": 131,
   "id": "6a3d9e84",
   "metadata": {},
   "outputs": [
    {
     "name": "stdout",
     "output_type": "stream",
     "text": [
      " For a purchase value between 25 to 50 , the max days taken to buy is 337\n",
      " For a purchase value between 25 to 50 , the min days taken to buy is -334\n",
      " For a purchase value between 25 to 50 , the avergae days taken to buy is 32.63043104928731\n",
      " For a purchase value between 25 to 50 , the count of Customers is  69876\n"
     ]
    }
   ],
   "source": [
    "print(\" For a purchase value between 25 to 50 , the max days taken to buy is {a}\".format(a=df_purchase_25_50['time_to_buy'].max()))\n",
    "print(\" For a purchase value between 25 to 50 , the min days taken to buy is {a}\".format(a=df_purchase_25_50['time_to_buy'].min()))\n",
    "print(\" For a purchase value between 25 to 50 , the avergae days taken to buy is {a}\".format(a=df_purchase_25_50['time_to_buy'].mean()))\n",
    "print(\" For a purchase value between 25 to 50 , the count of Customers is  {a}\".format(a=df_purchase_25_50['user_id'].count()))\n"
   ]
  },
  {
   "cell_type": "code",
   "execution_count": 133,
   "id": "72741814",
   "metadata": {},
   "outputs": [
    {
     "name": "stdout",
     "output_type": "stream",
     "text": [
      " For a purchase value between 50 to 75 , the max days taken to buy is 337\n",
      " For a purchase value between 50 to 75 , the min days taken to buy is -334\n",
      " For a purchase value between 50 to 75 , the avergae days taken to buy is 33.04549183129401\n",
      " For a purchase value between 50 to 75 , the count of Customers is  29258\n"
     ]
    }
   ],
   "source": [
    "print(\" For a purchase value between 50 to 75 , the max days taken to buy is {a}\".format(a=df_purchase_50_75['time_to_buy'].max()))\n",
    "print(\" For a purchase value between 50 to 75 , the min days taken to buy is {a}\".format(a=df_purchase_50_75['time_to_buy'].min()))\n",
    "print(\" For a purchase value between 50 to 75 , the avergae days taken to buy is {a}\".format(a=df_purchase_50_75['time_to_buy'].mean()))\n",
    "print(\" For a purchase value between 50 to 75 , the count of Customers is  {a}\".format(a=df_purchase_50_75['user_id'].count()))\n"
   ]
  },
  {
   "cell_type": "code",
   "execution_count": 134,
   "id": "531755c8",
   "metadata": {},
   "outputs": [
    {
     "name": "stdout",
     "output_type": "stream",
     "text": [
      " For a purchase value between 75 to 100 , the max days taken to buy is 335\n",
      " For a purchase value between 75 to 100 , the min days taken to buy is -332\n",
      " For a purchase value between 75 to 100 , the avergae days taken to buy is 33.96786603303915\n",
      " For a purchase value between 75 to 100 , the count of Customers is  4419\n"
     ]
    }
   ],
   "source": [
    "print(\" For a purchase value between 75 to 100 , the max days taken to buy is {a}\".format(a=df_purchase_75_100['time_to_buy'].max()))\n",
    "print(\" For a purchase value between 75 to 100 , the min days taken to buy is {a}\".format(a=df_purchase_75_100['time_to_buy'].min()))\n",
    "print(\" For a purchase value between 75 to 100 , the avergae days taken to buy is {a}\".format(a=df_purchase_75_100['time_to_buy'].mean()))\n",
    "print(\" For a purchase value between 75 to 100 , the count of Customers is  {a}\".format(a=df_purchase_75_100['user_id'].count()))\n"
   ]
  },
  {
   "cell_type": "code",
   "execution_count": 135,
   "id": "77ebd66c",
   "metadata": {},
   "outputs": [
    {
     "name": "stdout",
     "output_type": "stream",
     "text": [
      " For a purchase value between 100 to 125 , the max days taken to buy is 322\n",
      " For a purchase value between 100 to 125 , the min days taken to buy is -303\n",
      " For a purchase value between 100 to 125 , the avergae days taken to buy is 27.116104868913858\n",
      " For a purchase value between 100 to 125 , the count of Customers is  267\n"
     ]
    }
   ],
   "source": [
    "print(\" For a purchase value between 100 to 125 , the max days taken to buy is {a}\".format(a=df_purchase_100_125['time_to_buy'].max()))\n",
    "print(\" For a purchase value between 100 to 125 , the min days taken to buy is {a}\".format(a=df_purchase_100_125['time_to_buy'].min()))\n",
    "print(\" For a purchase value between 100 to 125 , the avergae days taken to buy is {a}\".format(a=df_purchase_100_125['time_to_buy'].mean()))\n",
    "print(\" For a purchase value between 100 to 125 , the count of Customers is  {a}\".format(a=df_purchase_100_125['user_id'].count()))\n"
   ]
  },
  {
   "cell_type": "code",
   "execution_count": 136,
   "id": "e310ca17",
   "metadata": {},
   "outputs": [
    {
     "name": "stdout",
     "output_type": "stream",
     "text": [
      " For a purchase value between 125 to 150 , the max days taken to buy is 250\n",
      " For a purchase value between 125 to 150 , the min days taken to buy is -120\n",
      " For a purchase value between 125 to 150 , the avergae days taken to buy is 27.833333333333332\n",
      " For a purchase value between 125 to 150 , the count of Customers is  12\n"
     ]
    }
   ],
   "source": [
    "print(\" For a purchase value between 125 to 150 , the max days taken to buy is {a}\".format(a=df_purchase_125_160['time_to_buy'].max()))\n",
    "print(\" For a purchase value between 125 to 150 , the min days taken to buy is {a}\".format(a=df_purchase_125_160['time_to_buy'].min()))\n",
    "print(\" For a purchase value between 125 to 150 , the avergae days taken to buy is {a}\".format(a=df_purchase_125_160['time_to_buy'].mean()))\n",
    "print(\" For a purchase value between 125 to 150 , the count of Customers is  {a}\".format(a=df_purchase_125_160['user_id'].count()))\n"
   ]
  },
  {
   "cell_type": "markdown",
   "id": "35585352",
   "metadata": {},
   "source": [
    "# check for correlation"
   ]
  },
  {
   "cell_type": "code",
   "execution_count": 137,
   "id": "e0ac9024",
   "metadata": {},
   "outputs": [
    {
     "data": {
      "text/plain": [
       "<AxesSubplot:>"
      ]
     },
     "execution_count": 137,
     "metadata": {},
     "output_type": "execute_result"
    },
    {
     "data": {
      "image/png": "[encoded data removed]",
      "text/plain": [
       "<Figure size 648x648 with 2 Axes>"
      ]
     },
     "metadata": {
      "needs_background": "light"
     },
     "output_type": "display_data"
    }
   ],
   "source": [
    "#check for correlation\n",
    "import seaborn as sns\n",
    "corrmat=df.corr()\n",
    "f,ax=plt.subplots(figsize=(9,9))\n",
    "sns.heatmap(corrmat,ax=ax,cmap='YlGnBu',linewidths=0.1)"
   ]
  },
  {
   "cell_type": "markdown",
   "id": "4545002f",
   "metadata": {},
   "source": [
    "# Result No corelation"
   ]
  },
  {
   "cell_type": "code",
   "execution_count": 139,
   "id": "d8f870b2",
   "metadata": {},
   "outputs": [
    {
     "data": {
      "text/plain": [
       "<AxesSubplot:xlabel='class', ylabel='time_to_buy'>"
      ]
     },
     "execution_count": 139,
     "metadata": {},
     "output_type": "execute_result"
    },
    {
     "data": {
      "image/png": "[encoded data removed]",
      "text/plain": [
       "<Figure size 432x288 with 1 Axes>"
      ]
     },
     "metadata": {
      "needs_background": "light"
     },
     "output_type": "display_data"
    }
   ],
   "source": [
    "# visualization on class wrt time to buy\n",
    "import seaborn as sns\n",
    "sns.barplot(x=\"class\",y=\"time_to_buy\",data=df)"
   ]
  },
  {
   "cell_type": "markdown",
   "id": "49f7475b",
   "metadata": {},
   "source": [
    "# now analyze the class which has fraud "
   ]
  },
  {
   "cell_type": "code",
   "execution_count": 140,
   "id": "d06e4ed8",
   "metadata": {},
   "outputs": [],
   "source": [
    "#now analyze the class which has fraud \n",
    "  #Sex\n",
    "  # Age\n",
    "  # from which source they have mailny user and browser\n",
    "  # check if user id has used multiple device id   and the value \n"
   ]
  },
  {
   "cell_type": "code",
   "execution_count": 141,
   "id": "503d1cc4",
   "metadata": {},
   "outputs": [],
   "source": [
    "# creating a dataframe with class=1 (fraud)\n",
    "df_class_fraud=df[df['class']==1]"
   ]
  },
  {
   "cell_type": "code",
   "execution_count": 144,
   "id": "e44c6399",
   "metadata": {},
   "outputs": [
    {
     "data": {
      "text/html": [
       "<div>\n",
       "<style scoped>\n",
       "    .dataframe tbody tr th:only-of-type {\n",
       "        vertical-align: middle;\n",
       "    }\n",
       "\n",
       "    .dataframe tbody tr th {\n",
       "        vertical-align: top;\n",
       "    }\n",
       "\n",
       "    .dataframe thead th {\n",
       "        text-align: right;\n",
       "    }\n",
       "</style>\n",
       "<table border=\"1\" class=\"dataframe\">\n",
       "  <thead>\n",
       "    <tr style=\"text-align: right;\">\n",
       "      <th></th>\n",
       "      <th>user_id</th>\n",
       "      <th>signup_time</th>\n",
       "      <th>purchase_time</th>\n",
       "      <th>purchase_value</th>\n",
       "      <th>device_id</th>\n",
       "      <th>source</th>\n",
       "      <th>browser</th>\n",
       "      <th>sex</th>\n",
       "      <th>age</th>\n",
       "      <th>ip_address</th>\n",
       "      <th>class</th>\n",
       "      <th>time_to_buy</th>\n",
       "    </tr>\n",
       "  </thead>\n",
       "  <tbody>\n",
       "    <tr>\n",
       "      <th>2</th>\n",
       "      <td>1359</td>\n",
       "      <td>2015-01-01 18:52:00</td>\n",
       "      <td>2015-01-01 18:52:00</td>\n",
       "      <td>15</td>\n",
       "      <td>YSSKYOSJHPPLJ</td>\n",
       "      <td>SEO</td>\n",
       "      <td>Opera</td>\n",
       "      <td>M</td>\n",
       "      <td>53</td>\n",
       "      <td>2.621474e+09</td>\n",
       "      <td>1</td>\n",
       "      <td>0</td>\n",
       "    </tr>\n",
       "    <tr>\n",
       "      <th>24</th>\n",
       "      <td>171711</td>\n",
       "      <td>2015-11-01 01:51:00</td>\n",
       "      <td>2015-11-01 01:51:00</td>\n",
       "      <td>52</td>\n",
       "      <td>YPLQGKBAAULUV</td>\n",
       "      <td>Direct</td>\n",
       "      <td>IE</td>\n",
       "      <td>F</td>\n",
       "      <td>35</td>\n",
       "      <td>1.120619e+09</td>\n",
       "      <td>1</td>\n",
       "      <td>0</td>\n",
       "    </tr>\n",
       "    <tr>\n",
       "      <th>25</th>\n",
       "      <td>59780</td>\n",
       "      <td>2015-04-01 22:32:00</td>\n",
       "      <td>2015-01-16 01:13:00</td>\n",
       "      <td>31</td>\n",
       "      <td>WUMOBGUCBOXPO</td>\n",
       "      <td>SEO</td>\n",
       "      <td>FireFox</td>\n",
       "      <td>M</td>\n",
       "      <td>36</td>\n",
       "      <td>1.752167e+09</td>\n",
       "      <td>1</td>\n",
       "      <td>-76</td>\n",
       "    </tr>\n",
       "    <tr>\n",
       "      <th>29</th>\n",
       "      <td>151705</td>\n",
       "      <td>2015-07-01 03:44:00</td>\n",
       "      <td>2015-07-01 03:44:00</td>\n",
       "      <td>48</td>\n",
       "      <td>URHCRIXOMLJMH</td>\n",
       "      <td>SEO</td>\n",
       "      <td>Chrome</td>\n",
       "      <td>F</td>\n",
       "      <td>27</td>\n",
       "      <td>2.836025e+09</td>\n",
       "      <td>1</td>\n",
       "      <td>0</td>\n",
       "    </tr>\n",
       "    <tr>\n",
       "      <th>59</th>\n",
       "      <td>345865</td>\n",
       "      <td>2015-01-02 05:59:00</td>\n",
       "      <td>2015-02-20 08:09:00</td>\n",
       "      <td>36</td>\n",
       "      <td>FKQPZUELCRKBL</td>\n",
       "      <td>SEO</td>\n",
       "      <td>IE</td>\n",
       "      <td>M</td>\n",
       "      <td>30</td>\n",
       "      <td>2.740590e+09</td>\n",
       "      <td>1</td>\n",
       "      <td>49</td>\n",
       "    </tr>\n",
       "  </tbody>\n",
       "</table>\n",
       "</div>"
      ],
      "text/plain": [
       "    user_id         signup_time       purchase_time  purchase_value  \\\n",
       "2      1359 2015-01-01 18:52:00 2015-01-01 18:52:00              15   \n",
       "24   171711 2015-11-01 01:51:00 2015-11-01 01:51:00              52   \n",
       "25    59780 2015-04-01 22:32:00 2015-01-16 01:13:00              31   \n",
       "29   151705 2015-07-01 03:44:00 2015-07-01 03:44:00              48   \n",
       "59   345865 2015-01-02 05:59:00 2015-02-20 08:09:00              36   \n",
       "\n",
       "        device_id  source  browser sex  age    ip_address  class  time_to_buy  \n",
       "2   YSSKYOSJHPPLJ     SEO    Opera   M   53  2.621474e+09      1            0  \n",
       "24  YPLQGKBAAULUV  Direct       IE   F   35  1.120619e+09      1            0  \n",
       "25  WUMOBGUCBOXPO     SEO  FireFox   M   36  1.752167e+09      1          -76  \n",
       "29  URHCRIXOMLJMH     SEO   Chrome   F   27  2.836025e+09      1            0  \n",
       "59  FKQPZUELCRKBL     SEO       IE   M   30  2.740590e+09      1           49  "
      ]
     },
     "execution_count": 144,
     "metadata": {},
     "output_type": "execute_result"
    }
   ],
   "source": [
    "#check the Dataframe\n",
    "df_class_fraud.head()"
   ]
  },
  {
   "cell_type": "code",
   "execution_count": 145,
   "id": "0d659b83",
   "metadata": {},
   "outputs": [
    {
     "data": {
      "text/plain": [
       "M    8434\n",
       "F    5717\n",
       "Name: sex, dtype: int64"
      ]
     },
     "execution_count": 145,
     "metadata": {},
     "output_type": "execute_result"
    }
   ],
   "source": [
    "# now in fraud dataframe let us see how many are male and female \n",
    "df_class_fraud['sex'].value_counts()"
   ]
  },
  {
   "cell_type": "code",
   "execution_count": 146,
   "id": "123a0800",
   "metadata": {},
   "outputs": [
    {
     "data": {
      "text/plain": [
       "Chrome     6069\n",
       "IE         3187\n",
       "FireFox    2342\n",
       "Safari     2225\n",
       "Opera       328\n",
       "Name: browser, dtype: int64"
      ]
     },
     "execution_count": 146,
     "metadata": {},
     "output_type": "execute_result"
    }
   ],
   "source": [
    "#lets check the brwser used maximum\n",
    "df_class_fraud['browser'].value_counts()"
   ]
  },
  {
   "cell_type": "code",
   "execution_count": 147,
   "id": "a6e011fc",
   "metadata": {},
   "outputs": [
    {
     "name": "stdout",
     "output_type": "stream",
     "text": [
      "People with age less than 20 is 512\n",
      "People with age grater than 20 and less than 40 is 10049\n",
      "People with age grater than 40 is 2802\n"
     ]
    }
   ],
   "source": [
    "#let us check the age bucket\n",
    "df_age0_20=df_class_fraud[df_class_fraud['age']<20]\n",
    "print(\"People with age less than 20 is {a}\".format(a=df_age0_20.shape[0]))\n",
    "df_age20_40=df_class_fraud[(df_class_fraud['age']>20) &(df_class_fraud['age']<40)]\n",
    "print(\"People with age grater than 20 and less than 40 is {a}\".format(a=df_age20_40.shape[0]))\n",
    "df_age40=df_class_fraud[(df_class_fraud['age']>40)]\n",
    "print(\"People with age grater than 40 is {a}\".format(a=df_age40.shape[0]))\n"
   ]
  },
  {
   "cell_type": "code",
   "execution_count": 148,
   "id": "ee58c930",
   "metadata": {},
   "outputs": [
    {
     "data": {
      "text/plain": [
       "Ads       5513\n",
       "SEO       5412\n",
       "Direct    3226\n",
       "Name: source, dtype: int64"
      ]
     },
     "execution_count": 148,
     "metadata": {},
     "output_type": "execute_result"
    }
   ],
   "source": [
    "#chekcing the source where the fraud is routing from\n",
    "df_class_fraud['source'].value_counts()"
   ]
  },
  {
   "cell_type": "code",
   "execution_count": 149,
   "id": "b4bcc326",
   "metadata": {},
   "outputs": [],
   "source": [
    "#.................................................................."
   ]
  },
  {
   "cell_type": "code",
   "execution_count": 150,
   "id": "525e551c",
   "metadata": {},
   "outputs": [],
   "source": [
    "#check the duplicates for both user id and device id"
   ]
  },
  {
   "cell_type": "code",
   "execution_count": 151,
   "id": "115c8aa8",
   "metadata": {},
   "outputs": [],
   "source": [
    "df_dup=df_class_fraud[df_class_fraud.duplicated(subset=['user_id','device_id'],keep=False)]"
   ]
  },
  {
   "cell_type": "code",
   "execution_count": 152,
   "id": "b73a194f",
   "metadata": {},
   "outputs": [
    {
     "data": {
      "text/html": [
       "<div>\n",
       "<style scoped>\n",
       "    .dataframe tbody tr th:only-of-type {\n",
       "        vertical-align: middle;\n",
       "    }\n",
       "\n",
       "    .dataframe tbody tr th {\n",
       "        vertical-align: top;\n",
       "    }\n",
       "\n",
       "    .dataframe thead th {\n",
       "        text-align: right;\n",
       "    }\n",
       "</style>\n",
       "<table border=\"1\" class=\"dataframe\">\n",
       "  <thead>\n",
       "    <tr style=\"text-align: right;\">\n",
       "      <th></th>\n",
       "      <th>user_id</th>\n",
       "      <th>signup_time</th>\n",
       "      <th>purchase_time</th>\n",
       "      <th>purchase_value</th>\n",
       "      <th>device_id</th>\n",
       "      <th>source</th>\n",
       "      <th>browser</th>\n",
       "      <th>sex</th>\n",
       "      <th>age</th>\n",
       "      <th>ip_address</th>\n",
       "      <th>class</th>\n",
       "      <th>time_to_buy</th>\n",
       "    </tr>\n",
       "  </thead>\n",
       "  <tbody>\n",
       "  </tbody>\n",
       "</table>\n",
       "</div>"
      ],
      "text/plain": [
       "Empty DataFrame\n",
       "Columns: [user_id, signup_time, purchase_time, purchase_value, device_id, source, browser, sex, age, ip_address, class, time_to_buy]\n",
       "Index: []"
      ]
     },
     "execution_count": 152,
     "metadata": {},
     "output_type": "execute_result"
    }
   ],
   "source": [
    "df_dup"
   ]
  },
  {
   "cell_type": "code",
   "execution_count": 153,
   "id": "42bd9053",
   "metadata": {},
   "outputs": [],
   "source": [
    "#result :- their is no duplicates with same user id and device_id"
   ]
  },
  {
   "cell_type": "code",
   "execution_count": 154,
   "id": "a64e14bb",
   "metadata": {},
   "outputs": [],
   "source": [
    "#check if one user id has more than one device id\n",
    "userid_deviceid=pd.DataFrame(df_class_fraud.groupby(['user_id','device_id']).size()).reset_index()"
   ]
  },
  {
   "cell_type": "code",
   "execution_count": 155,
   "id": "811b82ed",
   "metadata": {},
   "outputs": [
    {
     "data": {
      "text/plain": [
       "array([1], dtype=int64)"
      ]
     },
     "execution_count": 155,
     "metadata": {},
     "output_type": "execute_result"
    }
   ],
   "source": [
    "userid_deviceid[0].unique()"
   ]
  },
  {
   "cell_type": "code",
   "execution_count": 156,
   "id": "c49eebf1",
   "metadata": {},
   "outputs": [],
   "source": [
    "#result :- their is no user id with more than one device id"
   ]
  },
  {
   "cell_type": "code",
   "execution_count": 157,
   "id": "d61b996a",
   "metadata": {},
   "outputs": [],
   "source": [
    "#----------------------------------------------------------------------"
   ]
  },
  {
   "cell_type": "code",
   "execution_count": 158,
   "id": "1cd00318",
   "metadata": {},
   "outputs": [
    {
     "data": {
      "text/html": [
       "<div>\n",
       "<style scoped>\n",
       "    .dataframe tbody tr th:only-of-type {\n",
       "        vertical-align: middle;\n",
       "    }\n",
       "\n",
       "    .dataframe tbody tr th {\n",
       "        vertical-align: top;\n",
       "    }\n",
       "\n",
       "    .dataframe thead th {\n",
       "        text-align: right;\n",
       "    }\n",
       "</style>\n",
       "<table border=\"1\" class=\"dataframe\">\n",
       "  <thead>\n",
       "    <tr style=\"text-align: right;\">\n",
       "      <th></th>\n",
       "      <th>device_id</th>\n",
       "      <th>0</th>\n",
       "    </tr>\n",
       "  </thead>\n",
       "  <tbody>\n",
       "    <tr>\n",
       "      <th>0</th>\n",
       "      <td>AAAXXOZJRZRAO</td>\n",
       "      <td>10</td>\n",
       "    </tr>\n",
       "    <tr>\n",
       "      <th>1</th>\n",
       "      <td>AADGMPYOPXXCX</td>\n",
       "      <td>1</td>\n",
       "    </tr>\n",
       "    <tr>\n",
       "      <th>2</th>\n",
       "      <td>AAEWGRKQJJMVI</td>\n",
       "      <td>1</td>\n",
       "    </tr>\n",
       "    <tr>\n",
       "      <th>3</th>\n",
       "      <td>AAIEIZJZIKDLN</td>\n",
       "      <td>1</td>\n",
       "    </tr>\n",
       "    <tr>\n",
       "      <th>4</th>\n",
       "      <td>AAJCSUCPHKORJ</td>\n",
       "      <td>1</td>\n",
       "    </tr>\n",
       "  </tbody>\n",
       "</table>\n",
       "</div>"
      ],
      "text/plain": [
       "       device_id   0\n",
       "0  AAAXXOZJRZRAO  10\n",
       "1  AADGMPYOPXXCX   1\n",
       "2  AAEWGRKQJJMVI   1\n",
       "3  AAIEIZJZIKDLN   1\n",
       "4  AAJCSUCPHKORJ   1"
      ]
     },
     "execution_count": 158,
     "metadata": {},
     "output_type": "execute_result"
    }
   ],
   "source": [
    "#check if one device id has more than one user id\n",
    "deviceid_userid=pd.DataFrame(df_class_fraud.groupby(['device_id']).size()).reset_index()\n",
    "deviceid_userid.head()"
   ]
  },
  {
   "cell_type": "code",
   "execution_count": 159,
   "id": "006eaa41",
   "metadata": {},
   "outputs": [],
   "source": [
    "#now let us check the device id tagged with multiple user id \n",
    "deviceid_userid_multi=deviceid_userid[deviceid_userid[0]>1]"
   ]
  },
  {
   "cell_type": "code",
   "execution_count": 160,
   "id": "2999db09",
   "metadata": {},
   "outputs": [
    {
     "data": {
      "text/html": [
       "<div>\n",
       "<style scoped>\n",
       "    .dataframe tbody tr th:only-of-type {\n",
       "        vertical-align: middle;\n",
       "    }\n",
       "\n",
       "    .dataframe tbody tr th {\n",
       "        vertical-align: top;\n",
       "    }\n",
       "\n",
       "    .dataframe thead th {\n",
       "        text-align: right;\n",
       "    }\n",
       "</style>\n",
       "<table border=\"1\" class=\"dataframe\">\n",
       "  <thead>\n",
       "    <tr style=\"text-align: right;\">\n",
       "      <th></th>\n",
       "      <th>device_id</th>\n",
       "      <th>0</th>\n",
       "    </tr>\n",
       "  </thead>\n",
       "  <tbody>\n",
       "    <tr>\n",
       "      <th>0</th>\n",
       "      <td>AAAXXOZJRZRAO</td>\n",
       "      <td>10</td>\n",
       "    </tr>\n",
       "    <tr>\n",
       "      <th>7</th>\n",
       "      <td>AANYBGQSWHRTK</td>\n",
       "      <td>7</td>\n",
       "    </tr>\n",
       "    <tr>\n",
       "      <th>31</th>\n",
       "      <td>ADEDUDCYQMYTI</td>\n",
       "      <td>13</td>\n",
       "    </tr>\n",
       "    <tr>\n",
       "      <th>32</th>\n",
       "      <td>ADFZEAZJYIAOI</td>\n",
       "      <td>2</td>\n",
       "    </tr>\n",
       "    <tr>\n",
       "      <th>36</th>\n",
       "      <td>AEIDJUGTZWDBU</td>\n",
       "      <td>2</td>\n",
       "    </tr>\n",
       "    <tr>\n",
       "      <th>...</th>\n",
       "      <td>...</td>\n",
       "      <td>...</td>\n",
       "    </tr>\n",
       "    <tr>\n",
       "      <th>6969</th>\n",
       "      <td>ZYPKBBYHNPZDI</td>\n",
       "      <td>2</td>\n",
       "    </tr>\n",
       "    <tr>\n",
       "      <th>6977</th>\n",
       "      <td>ZYZQZXBXADPST</td>\n",
       "      <td>15</td>\n",
       "    </tr>\n",
       "    <tr>\n",
       "      <th>6979</th>\n",
       "      <td>ZZCAWCKYVMWNH</td>\n",
       "      <td>8</td>\n",
       "    </tr>\n",
       "    <tr>\n",
       "      <th>6980</th>\n",
       "      <td>ZZFFPOVMCQVCG</td>\n",
       "      <td>6</td>\n",
       "    </tr>\n",
       "    <tr>\n",
       "      <th>6985</th>\n",
       "      <td>ZZQPVRBHRMVYD</td>\n",
       "      <td>11</td>\n",
       "    </tr>\n",
       "  </tbody>\n",
       "</table>\n",
       "<p>1044 rows × 2 columns</p>\n",
       "</div>"
      ],
      "text/plain": [
       "          device_id   0\n",
       "0     AAAXXOZJRZRAO  10\n",
       "7     AANYBGQSWHRTK   7\n",
       "31    ADEDUDCYQMYTI  13\n",
       "32    ADFZEAZJYIAOI   2\n",
       "36    AEIDJUGTZWDBU   2\n",
       "...             ...  ..\n",
       "6969  ZYPKBBYHNPZDI   2\n",
       "6977  ZYZQZXBXADPST  15\n",
       "6979  ZZCAWCKYVMWNH   8\n",
       "6980  ZZFFPOVMCQVCG   6\n",
       "6985  ZZQPVRBHRMVYD  11\n",
       "\n",
       "[1044 rows x 2 columns]"
      ]
     },
     "execution_count": 160,
     "metadata": {},
     "output_type": "execute_result"
    }
   ],
   "source": [
    "deviceid_userid_multi"
   ]
  },
  {
   "cell_type": "code",
   "execution_count": 161,
   "id": "f4fe17d2",
   "metadata": {},
   "outputs": [],
   "source": [
    "#now let us get the user-id mapped with multiple device id\n",
    "deviceid_multi=df_class_fraud['device_id'].isin(deviceid_userid_multi['device_id'])\n",
    "deviceid_multi1=df_class_fraud[deviceid_multi]"
   ]
  },
  {
   "cell_type": "code",
   "execution_count": 162,
   "id": "0956212d",
   "metadata": {},
   "outputs": [
    {
     "data": {
      "text/html": [
       "<div>\n",
       "<style scoped>\n",
       "    .dataframe tbody tr th:only-of-type {\n",
       "        vertical-align: middle;\n",
       "    }\n",
       "\n",
       "    .dataframe tbody tr th {\n",
       "        vertical-align: top;\n",
       "    }\n",
       "\n",
       "    .dataframe thead th {\n",
       "        text-align: right;\n",
       "    }\n",
       "</style>\n",
       "<table border=\"1\" class=\"dataframe\">\n",
       "  <thead>\n",
       "    <tr style=\"text-align: right;\">\n",
       "      <th></th>\n",
       "      <th>user_id</th>\n",
       "      <th>signup_time</th>\n",
       "      <th>purchase_time</th>\n",
       "      <th>purchase_value</th>\n",
       "      <th>device_id</th>\n",
       "      <th>source</th>\n",
       "      <th>browser</th>\n",
       "      <th>sex</th>\n",
       "      <th>age</th>\n",
       "      <th>ip_address</th>\n",
       "      <th>class</th>\n",
       "      <th>time_to_buy</th>\n",
       "    </tr>\n",
       "  </thead>\n",
       "  <tbody>\n",
       "    <tr>\n",
       "      <th>2</th>\n",
       "      <td>1359</td>\n",
       "      <td>2015-01-01 18:52:00</td>\n",
       "      <td>2015-01-01 18:52:00</td>\n",
       "      <td>15</td>\n",
       "      <td>YSSKYOSJHPPLJ</td>\n",
       "      <td>SEO</td>\n",
       "      <td>Opera</td>\n",
       "      <td>M</td>\n",
       "      <td>53</td>\n",
       "      <td>2.621474e+09</td>\n",
       "      <td>1</td>\n",
       "      <td>0</td>\n",
       "    </tr>\n",
       "    <tr>\n",
       "      <th>24</th>\n",
       "      <td>171711</td>\n",
       "      <td>2015-11-01 01:51:00</td>\n",
       "      <td>2015-11-01 01:51:00</td>\n",
       "      <td>52</td>\n",
       "      <td>YPLQGKBAAULUV</td>\n",
       "      <td>Direct</td>\n",
       "      <td>IE</td>\n",
       "      <td>F</td>\n",
       "      <td>35</td>\n",
       "      <td>1.120619e+09</td>\n",
       "      <td>1</td>\n",
       "      <td>0</td>\n",
       "    </tr>\n",
       "    <tr>\n",
       "      <th>29</th>\n",
       "      <td>151705</td>\n",
       "      <td>2015-07-01 03:44:00</td>\n",
       "      <td>2015-07-01 03:44:00</td>\n",
       "      <td>48</td>\n",
       "      <td>URHCRIXOMLJMH</td>\n",
       "      <td>SEO</td>\n",
       "      <td>Chrome</td>\n",
       "      <td>F</td>\n",
       "      <td>27</td>\n",
       "      <td>2.836025e+09</td>\n",
       "      <td>1</td>\n",
       "      <td>0</td>\n",
       "    </tr>\n",
       "    <tr>\n",
       "      <th>64</th>\n",
       "      <td>181004</td>\n",
       "      <td>2015-07-01 17:45:00</td>\n",
       "      <td>2015-07-01 17:45:00</td>\n",
       "      <td>10</td>\n",
       "      <td>WETYPHOQVLWMK</td>\n",
       "      <td>Ads</td>\n",
       "      <td>FireFox</td>\n",
       "      <td>M</td>\n",
       "      <td>36</td>\n",
       "      <td>2.293333e+09</td>\n",
       "      <td>1</td>\n",
       "      <td>0</td>\n",
       "    </tr>\n",
       "    <tr>\n",
       "      <th>77</th>\n",
       "      <td>392706</td>\n",
       "      <td>2015-07-01 08:15:00</td>\n",
       "      <td>2015-07-01 08:15:00</td>\n",
       "      <td>65</td>\n",
       "      <td>VRYLIRAQJIIIE</td>\n",
       "      <td>SEO</td>\n",
       "      <td>Opera</td>\n",
       "      <td>F</td>\n",
       "      <td>30</td>\n",
       "      <td>1.213105e+09</td>\n",
       "      <td>1</td>\n",
       "      <td>0</td>\n",
       "    </tr>\n",
       "  </tbody>\n",
       "</table>\n",
       "</div>"
      ],
      "text/plain": [
       "    user_id         signup_time       purchase_time  purchase_value  \\\n",
       "2      1359 2015-01-01 18:52:00 2015-01-01 18:52:00              15   \n",
       "24   171711 2015-11-01 01:51:00 2015-11-01 01:51:00              52   \n",
       "29   151705 2015-07-01 03:44:00 2015-07-01 03:44:00              48   \n",
       "64   181004 2015-07-01 17:45:00 2015-07-01 17:45:00              10   \n",
       "77   392706 2015-07-01 08:15:00 2015-07-01 08:15:00              65   \n",
       "\n",
       "        device_id  source  browser sex  age    ip_address  class  time_to_buy  \n",
       "2   YSSKYOSJHPPLJ     SEO    Opera   M   53  2.621474e+09      1            0  \n",
       "24  YPLQGKBAAULUV  Direct       IE   F   35  1.120619e+09      1            0  \n",
       "29  URHCRIXOMLJMH     SEO   Chrome   F   27  2.836025e+09      1            0  \n",
       "64  WETYPHOQVLWMK     Ads  FireFox   M   36  2.293333e+09      1            0  \n",
       "77  VRYLIRAQJIIIE     SEO    Opera   F   30  1.213105e+09      1            0  "
      ]
     },
     "execution_count": 162,
     "metadata": {},
     "output_type": "execute_result"
    }
   ],
   "source": [
    "#check the dataframe\n",
    "deviceid_multi1.head()"
   ]
  },
  {
   "cell_type": "code",
   "execution_count": 174,
   "id": "203d2d94",
   "metadata": {},
   "outputs": [],
   "source": [
    "#grpuping device id to get count of user id and mean of purchase value\n",
    "a1=deviceid_multi1.groupby('device_id').agg({'user_id':'count','purchase_value':'mean'})"
   ]
  },
  {
   "cell_type": "code",
   "execution_count": 176,
   "id": "abedfd88",
   "metadata": {},
   "outputs": [],
   "source": [
    "a=pd.DataFrame(a).reset_index()"
   ]
  },
  {
   "cell_type": "code",
   "execution_count": 182,
   "id": "9750c40a",
   "metadata": {},
   "outputs": [],
   "source": [
    "s=a['user_id'].idxmax()"
   ]
  },
  {
   "cell_type": "code",
   "execution_count": 185,
   "id": "7d52e830",
   "metadata": {},
   "outputs": [
    {
     "data": {
      "text/plain": [
       "index                        97\n",
       "device_id         CQTUVBYIWWWBC\n",
       "user_id                      19\n",
       "purchase_value             32.0\n",
       "Name: 97, dtype: object"
      ]
     },
     "execution_count": 185,
     "metadata": {},
     "output_type": "execute_result"
    }
   ],
   "source": [
    "a.iloc[97,:]"
   ]
  },
  {
   "cell_type": "code",
   "execution_count": 156,
   "id": "1a9a1023",
   "metadata": {},
   "outputs": [],
   "source": [
    "#findings\n",
    "-device id and user id pattern \n",
    "-time to buy -relation ship between user signing to purchase\n",
    "-age\n",
    "-source \n",
    "\n",
    "\n"
   ]
  },
  {
   "cell_type": "code",
   "execution_count": null,
   "id": "a121fa1f",
   "metadata": {},
   "outputs": [],
   "source": [
    "#------------------------------------------------------------------------------------------------------"
   ]
  },
  {
   "cell_type": "markdown",
   "id": "0eb7d733",
   "metadata": {},
   "source": [
    "# Preprocessing"
   ]
  },
  {
   "cell_type": "code",
   "execution_count": 53,
   "id": "4b7a8e0d",
   "metadata": {},
   "outputs": [],
   "source": [
    "from imblearn import under_sampling"
   ]
  },
  {
   "cell_type": "code",
   "execution_count": 54,
   "id": "770cb3c3",
   "metadata": {},
   "outputs": [],
   "source": [
    "import datetime as dt\n",
    "\n",
    "df['signup_time'] = pd.to_datetime(df['signup_time'])\n",
    "df['purchase_time'] = pd.to_datetime(df['purchase_time'])"
   ]
  },
  {
   "cell_type": "code",
   "execution_count": 55,
   "id": "f3aff028",
   "metadata": {},
   "outputs": [
    {
     "data": {
      "text/html": [
       "<div>\n",
       "<style scoped>\n",
       "    .dataframe tbody tr th:only-of-type {\n",
       "        vertical-align: middle;\n",
       "    }\n",
       "\n",
       "    .dataframe tbody tr th {\n",
       "        vertical-align: top;\n",
       "    }\n",
       "\n",
       "    .dataframe thead th {\n",
       "        text-align: right;\n",
       "    }\n",
       "</style>\n",
       "<table border=\"1\" class=\"dataframe\">\n",
       "  <thead>\n",
       "    <tr style=\"text-align: right;\">\n",
       "      <th></th>\n",
       "      <th>user_id</th>\n",
       "      <th>signup_time</th>\n",
       "      <th>purchase_time</th>\n",
       "      <th>purchase_value</th>\n",
       "      <th>device_id</th>\n",
       "      <th>source</th>\n",
       "      <th>browser</th>\n",
       "      <th>sex</th>\n",
       "      <th>age</th>\n",
       "      <th>ip_address</th>\n",
       "      <th>class</th>\n",
       "    </tr>\n",
       "  </thead>\n",
       "  <tbody>\n",
       "    <tr>\n",
       "      <th>0</th>\n",
       "      <td>22058</td>\n",
       "      <td>2015-02-24 22:55:00</td>\n",
       "      <td>2015-04-18 02:47:00</td>\n",
       "      <td>34</td>\n",
       "      <td>QVPSPJUOCKZAR</td>\n",
       "      <td>SEO</td>\n",
       "      <td>Chrome</td>\n",
       "      <td>M</td>\n",
       "      <td>39</td>\n",
       "      <td>7.327584e+08</td>\n",
       "      <td>0</td>\n",
       "    </tr>\n",
       "    <tr>\n",
       "      <th>1</th>\n",
       "      <td>333320</td>\n",
       "      <td>2015-07-06 20:39:00</td>\n",
       "      <td>2015-08-06 01:38:00</td>\n",
       "      <td>16</td>\n",
       "      <td>EOGFQPIZPYXFZ</td>\n",
       "      <td>Ads</td>\n",
       "      <td>Chrome</td>\n",
       "      <td>F</td>\n",
       "      <td>53</td>\n",
       "      <td>3.503114e+08</td>\n",
       "      <td>0</td>\n",
       "    </tr>\n",
       "    <tr>\n",
       "      <th>2</th>\n",
       "      <td>1359</td>\n",
       "      <td>2015-01-01 18:52:00</td>\n",
       "      <td>2015-01-01 18:52:00</td>\n",
       "      <td>15</td>\n",
       "      <td>YSSKYOSJHPPLJ</td>\n",
       "      <td>SEO</td>\n",
       "      <td>Opera</td>\n",
       "      <td>M</td>\n",
       "      <td>53</td>\n",
       "      <td>2.621474e+09</td>\n",
       "      <td>1</td>\n",
       "    </tr>\n",
       "    <tr>\n",
       "      <th>3</th>\n",
       "      <td>150084</td>\n",
       "      <td>2015-04-28 21:13:00</td>\n",
       "      <td>2015-04-05 13:54:00</td>\n",
       "      <td>44</td>\n",
       "      <td>ATGTXKYKUDUQN</td>\n",
       "      <td>SEO</td>\n",
       "      <td>Safari</td>\n",
       "      <td>M</td>\n",
       "      <td>41</td>\n",
       "      <td>3.840542e+09</td>\n",
       "      <td>0</td>\n",
       "    </tr>\n",
       "    <tr>\n",
       "      <th>4</th>\n",
       "      <td>221365</td>\n",
       "      <td>2015-07-21 07:09:00</td>\n",
       "      <td>2015-09-09 18:40:00</td>\n",
       "      <td>39</td>\n",
       "      <td>NAUITBZFJKHWW</td>\n",
       "      <td>Ads</td>\n",
       "      <td>Safari</td>\n",
       "      <td>M</td>\n",
       "      <td>45</td>\n",
       "      <td>4.155831e+08</td>\n",
       "      <td>0</td>\n",
       "    </tr>\n",
       "  </tbody>\n",
       "</table>\n",
       "</div>"
      ],
      "text/plain": [
       "   user_id         signup_time       purchase_time  purchase_value  \\\n",
       "0    22058 2015-02-24 22:55:00 2015-04-18 02:47:00              34   \n",
       "1   333320 2015-07-06 20:39:00 2015-08-06 01:38:00              16   \n",
       "2     1359 2015-01-01 18:52:00 2015-01-01 18:52:00              15   \n",
       "3   150084 2015-04-28 21:13:00 2015-04-05 13:54:00              44   \n",
       "4   221365 2015-07-21 07:09:00 2015-09-09 18:40:00              39   \n",
       "\n",
       "       device_id source browser sex  age    ip_address  class  \n",
       "0  QVPSPJUOCKZAR    SEO  Chrome   M   39  7.327584e+08      0  \n",
       "1  EOGFQPIZPYXFZ    Ads  Chrome   F   53  3.503114e+08      0  \n",
       "2  YSSKYOSJHPPLJ    SEO   Opera   M   53  2.621474e+09      1  \n",
       "3  ATGTXKYKUDUQN    SEO  Safari   M   41  3.840542e+09      0  \n",
       "4  NAUITBZFJKHWW    Ads  Safari   M   45  4.155831e+08      0  "
      ]
     },
     "execution_count": 55,
     "metadata": {},
     "output_type": "execute_result"
    }
   ],
   "source": [
    "df.head()"
   ]
  },
  {
   "cell_type": "code",
   "execution_count": 56,
   "id": "97a058d0",
   "metadata": {},
   "outputs": [],
   "source": [
    "df['time_to_buy'] = (df['purchase_time'] - df['signup_time']).dt.days"
   ]
  },
  {
   "cell_type": "code",
   "execution_count": 57,
   "id": "09ac55c5",
   "metadata": {},
   "outputs": [],
   "source": [
    "df1=df.copy()"
   ]
  },
  {
   "cell_type": "code",
   "execution_count": 58,
   "id": "b9629363",
   "metadata": {},
   "outputs": [
    {
     "data": {
      "text/plain": [
       "Index(['user_id', 'signup_time', 'purchase_time', 'purchase_value',\n",
       "       'device_id', 'source', 'browser', 'sex', 'age', 'ip_address', 'class',\n",
       "       'time_to_buy'],\n",
       "      dtype='object')"
      ]
     },
     "execution_count": 58,
     "metadata": {},
     "output_type": "execute_result"
    }
   ],
   "source": [
    "df.columns"
   ]
  },
  {
   "cell_type": "code",
   "execution_count": 59,
   "id": "c70727bc",
   "metadata": {},
   "outputs": [],
   "source": [
    "from sklearn.model_selection import train_test_split"
   ]
  },
  {
   "cell_type": "code",
   "execution_count": 60,
   "id": "1235f427",
   "metadata": {},
   "outputs": [],
   "source": [
    "x=df1.drop(columns=['class'],axis=1)\n",
    "y=df1['class']"
   ]
  },
  {
   "cell_type": "code",
   "execution_count": 61,
   "id": "73632a68",
   "metadata": {},
   "outputs": [],
   "source": [
    "x.drop(labels=['user_id','signup_time','purchase_time','device_id','ip_address'],axis=1,inplace=True)"
   ]
  },
  {
   "cell_type": "code",
   "execution_count": 62,
   "id": "7c5cab82",
   "metadata": {},
   "outputs": [
    {
     "data": {
      "text/html": [
       "<div>\n",
       "<style scoped>\n",
       "    .dataframe tbody tr th:only-of-type {\n",
       "        vertical-align: middle;\n",
       "    }\n",
       "\n",
       "    .dataframe tbody tr th {\n",
       "        vertical-align: top;\n",
       "    }\n",
       "\n",
       "    .dataframe thead th {\n",
       "        text-align: right;\n",
       "    }\n",
       "</style>\n",
       "<table border=\"1\" class=\"dataframe\">\n",
       "  <thead>\n",
       "    <tr style=\"text-align: right;\">\n",
       "      <th></th>\n",
       "      <th>purchase_value</th>\n",
       "      <th>source</th>\n",
       "      <th>browser</th>\n",
       "      <th>sex</th>\n",
       "      <th>age</th>\n",
       "      <th>time_to_buy</th>\n",
       "    </tr>\n",
       "  </thead>\n",
       "  <tbody>\n",
       "    <tr>\n",
       "      <th>0</th>\n",
       "      <td>34</td>\n",
       "      <td>SEO</td>\n",
       "      <td>Chrome</td>\n",
       "      <td>M</td>\n",
       "      <td>39</td>\n",
       "      <td>52</td>\n",
       "    </tr>\n",
       "    <tr>\n",
       "      <th>1</th>\n",
       "      <td>16</td>\n",
       "      <td>Ads</td>\n",
       "      <td>Chrome</td>\n",
       "      <td>F</td>\n",
       "      <td>53</td>\n",
       "      <td>30</td>\n",
       "    </tr>\n",
       "    <tr>\n",
       "      <th>2</th>\n",
       "      <td>15</td>\n",
       "      <td>SEO</td>\n",
       "      <td>Opera</td>\n",
       "      <td>M</td>\n",
       "      <td>53</td>\n",
       "      <td>0</td>\n",
       "    </tr>\n",
       "    <tr>\n",
       "      <th>3</th>\n",
       "      <td>44</td>\n",
       "      <td>SEO</td>\n",
       "      <td>Safari</td>\n",
       "      <td>M</td>\n",
       "      <td>41</td>\n",
       "      <td>-24</td>\n",
       "    </tr>\n",
       "    <tr>\n",
       "      <th>4</th>\n",
       "      <td>39</td>\n",
       "      <td>Ads</td>\n",
       "      <td>Safari</td>\n",
       "      <td>M</td>\n",
       "      <td>45</td>\n",
       "      <td>50</td>\n",
       "    </tr>\n",
       "  </tbody>\n",
       "</table>\n",
       "</div>"
      ],
      "text/plain": [
       "   purchase_value source browser sex  age  time_to_buy\n",
       "0              34    SEO  Chrome   M   39           52\n",
       "1              16    Ads  Chrome   F   53           30\n",
       "2              15    SEO   Opera   M   53            0\n",
       "3              44    SEO  Safari   M   41          -24\n",
       "4              39    Ads  Safari   M   45           50"
      ]
     },
     "execution_count": 62,
     "metadata": {},
     "output_type": "execute_result"
    }
   ],
   "source": [
    "x.head()"
   ]
  },
  {
   "cell_type": "markdown",
   "id": "9f12103c",
   "metadata": {},
   "source": [
    "# undersampling "
   ]
  },
  {
   "cell_type": "code",
   "execution_count": 63,
   "id": "d43ff172",
   "metadata": {},
   "outputs": [
    {
     "name": "stdout",
     "output_type": "stream",
     "text": [
      "[(0, 14151), (1, 14151)] (28302,)\n"
     ]
    }
   ],
   "source": [
    "\n",
    "from imblearn.under_sampling import RandomUnderSampler\n",
    "from collections import Counter\n",
    "rus=RandomUnderSampler(random_state=0)\n",
    "x_u,y_u=rus.fit_resample(x,y)\n",
    "print(sorted(Counter(y_u).items()),y_u.shape)"
   ]
  },
  {
   "cell_type": "code",
   "execution_count": 64,
   "id": "a8bf6516",
   "metadata": {},
   "outputs": [],
   "source": [
    "x_train1,x_test1,y_train1,y_test1 = train_test_split(x_u,y_u,test_size=0.3,random_state=0)"
   ]
  },
  {
   "cell_type": "code",
   "execution_count": 65,
   "id": "8768021b",
   "metadata": {},
   "outputs": [
    {
     "data": {
      "text/html": [
       "<div>\n",
       "<style scoped>\n",
       "    .dataframe tbody tr th:only-of-type {\n",
       "        vertical-align: middle;\n",
       "    }\n",
       "\n",
       "    .dataframe tbody tr th {\n",
       "        vertical-align: top;\n",
       "    }\n",
       "\n",
       "    .dataframe thead th {\n",
       "        text-align: right;\n",
       "    }\n",
       "</style>\n",
       "<table border=\"1\" class=\"dataframe\">\n",
       "  <thead>\n",
       "    <tr style=\"text-align: right;\">\n",
       "      <th></th>\n",
       "      <th>purchase_value</th>\n",
       "      <th>source</th>\n",
       "      <th>browser</th>\n",
       "      <th>sex</th>\n",
       "      <th>age</th>\n",
       "      <th>time_to_buy</th>\n",
       "    </tr>\n",
       "  </thead>\n",
       "  <tbody>\n",
       "    <tr>\n",
       "      <th>565</th>\n",
       "      <td>56</td>\n",
       "      <td>SEO</td>\n",
       "      <td>Chrome</td>\n",
       "      <td>F</td>\n",
       "      <td>25</td>\n",
       "      <td>278</td>\n",
       "    </tr>\n",
       "    <tr>\n",
       "      <th>1424</th>\n",
       "      <td>16</td>\n",
       "      <td>Ads</td>\n",
       "      <td>FireFox</td>\n",
       "      <td>F</td>\n",
       "      <td>44</td>\n",
       "      <td>-157</td>\n",
       "    </tr>\n",
       "    <tr>\n",
       "      <th>18609</th>\n",
       "      <td>11</td>\n",
       "      <td>Ads</td>\n",
       "      <td>Chrome</td>\n",
       "      <td>F</td>\n",
       "      <td>29</td>\n",
       "      <td>216</td>\n",
       "    </tr>\n",
       "    <tr>\n",
       "      <th>7993</th>\n",
       "      <td>34</td>\n",
       "      <td>Direct</td>\n",
       "      <td>Chrome</td>\n",
       "      <td>F</td>\n",
       "      <td>35</td>\n",
       "      <td>91</td>\n",
       "    </tr>\n",
       "    <tr>\n",
       "      <th>19357</th>\n",
       "      <td>23</td>\n",
       "      <td>Ads</td>\n",
       "      <td>Chrome</td>\n",
       "      <td>F</td>\n",
       "      <td>36</td>\n",
       "      <td>1</td>\n",
       "    </tr>\n",
       "  </tbody>\n",
       "</table>\n",
       "</div>"
      ],
      "text/plain": [
       "       purchase_value  source  browser sex  age  time_to_buy\n",
       "565                56     SEO   Chrome   F   25          278\n",
       "1424               16     Ads  FireFox   F   44         -157\n",
       "18609              11     Ads   Chrome   F   29          216\n",
       "7993               34  Direct   Chrome   F   35           91\n",
       "19357              23     Ads   Chrome   F   36            1"
      ]
     },
     "execution_count": 65,
     "metadata": {},
     "output_type": "execute_result"
    }
   ],
   "source": [
    "x_train1.head()"
   ]
  },
  {
   "cell_type": "code",
   "execution_count": 66,
   "id": "a48f52ef",
   "metadata": {},
   "outputs": [
    {
     "data": {
      "text/plain": [
       "purchase_value     int64\n",
       "source            object\n",
       "browser           object\n",
       "sex               object\n",
       "age                int64\n",
       "time_to_buy        int64\n",
       "dtype: object"
      ]
     },
     "execution_count": 66,
     "metadata": {},
     "output_type": "execute_result"
    }
   ],
   "source": [
    "x_train1.dtypes"
   ]
  },
  {
   "cell_type": "markdown",
   "id": "06129a93",
   "metadata": {},
   "source": [
    "# Onehotencoder"
   ]
  },
  {
   "cell_type": "code",
   "execution_count": 67,
   "id": "da5e131e",
   "metadata": {},
   "outputs": [],
   "source": [
    "from sklearn.preprocessing import OneHotEncoder"
   ]
  },
  {
   "cell_type": "code",
   "execution_count": 68,
   "id": "a7c1202e",
   "metadata": {},
   "outputs": [],
   "source": [
    "#perform one hot encoder on train\n",
    "one_hot = OneHotEncoder(drop='first',handle_unknown='error',sparse=False)\n",
    "x_train_onehot= one_hot.fit_transform(x_train1[['source','browser','sex']])\n",
    "x_train_onehot1=pd.DataFrame(x_train_onehot,columns=one_hot.get_feature_names_out())\n",
    "x_train1=x_train1.reset_index(drop=True)\n",
    "x_train_new=pd.concat([x_train1,x_train_onehot1],axis=1)"
   ]
  },
  {
   "cell_type": "code",
   "execution_count": 69,
   "id": "13e27d38",
   "metadata": {},
   "outputs": [],
   "source": [
    "x_train_new1=x_train_new.drop(columns=['source','browser','sex'],axis=1)"
   ]
  },
  {
   "cell_type": "code",
   "execution_count": 70,
   "id": "b56e6e0e",
   "metadata": {},
   "outputs": [
    {
     "data": {
      "text/html": [
       "<div>\n",
       "<style scoped>\n",
       "    .dataframe tbody tr th:only-of-type {\n",
       "        vertical-align: middle;\n",
       "    }\n",
       "\n",
       "    .dataframe tbody tr th {\n",
       "        vertical-align: top;\n",
       "    }\n",
       "\n",
       "    .dataframe thead th {\n",
       "        text-align: right;\n",
       "    }\n",
       "</style>\n",
       "<table border=\"1\" class=\"dataframe\">\n",
       "  <thead>\n",
       "    <tr style=\"text-align: right;\">\n",
       "      <th></th>\n",
       "      <th>purchase_value</th>\n",
       "      <th>age</th>\n",
       "      <th>time_to_buy</th>\n",
       "      <th>source_Direct</th>\n",
       "      <th>source_SEO</th>\n",
       "      <th>browser_FireFox</th>\n",
       "      <th>browser_IE</th>\n",
       "      <th>browser_Opera</th>\n",
       "      <th>browser_Safari</th>\n",
       "      <th>sex_M</th>\n",
       "    </tr>\n",
       "  </thead>\n",
       "  <tbody>\n",
       "    <tr>\n",
       "      <th>0</th>\n",
       "      <td>56</td>\n",
       "      <td>25</td>\n",
       "      <td>278</td>\n",
       "      <td>0.0</td>\n",
       "      <td>1.0</td>\n",
       "      <td>0.0</td>\n",
       "      <td>0.0</td>\n",
       "      <td>0.0</td>\n",
       "      <td>0.0</td>\n",
       "      <td>0.0</td>\n",
       "    </tr>\n",
       "    <tr>\n",
       "      <th>1</th>\n",
       "      <td>16</td>\n",
       "      <td>44</td>\n",
       "      <td>-157</td>\n",
       "      <td>0.0</td>\n",
       "      <td>0.0</td>\n",
       "      <td>1.0</td>\n",
       "      <td>0.0</td>\n",
       "      <td>0.0</td>\n",
       "      <td>0.0</td>\n",
       "      <td>0.0</td>\n",
       "    </tr>\n",
       "    <tr>\n",
       "      <th>2</th>\n",
       "      <td>11</td>\n",
       "      <td>29</td>\n",
       "      <td>216</td>\n",
       "      <td>0.0</td>\n",
       "      <td>0.0</td>\n",
       "      <td>0.0</td>\n",
       "      <td>0.0</td>\n",
       "      <td>0.0</td>\n",
       "      <td>0.0</td>\n",
       "      <td>0.0</td>\n",
       "    </tr>\n",
       "    <tr>\n",
       "      <th>3</th>\n",
       "      <td>34</td>\n",
       "      <td>35</td>\n",
       "      <td>91</td>\n",
       "      <td>1.0</td>\n",
       "      <td>0.0</td>\n",
       "      <td>0.0</td>\n",
       "      <td>0.0</td>\n",
       "      <td>0.0</td>\n",
       "      <td>0.0</td>\n",
       "      <td>0.0</td>\n",
       "    </tr>\n",
       "    <tr>\n",
       "      <th>4</th>\n",
       "      <td>23</td>\n",
       "      <td>36</td>\n",
       "      <td>1</td>\n",
       "      <td>0.0</td>\n",
       "      <td>0.0</td>\n",
       "      <td>0.0</td>\n",
       "      <td>0.0</td>\n",
       "      <td>0.0</td>\n",
       "      <td>0.0</td>\n",
       "      <td>0.0</td>\n",
       "    </tr>\n",
       "  </tbody>\n",
       "</table>\n",
       "</div>"
      ],
      "text/plain": [
       "   purchase_value  age  time_to_buy  source_Direct  source_SEO  \\\n",
       "0              56   25          278            0.0         1.0   \n",
       "1              16   44         -157            0.0         0.0   \n",
       "2              11   29          216            0.0         0.0   \n",
       "3              34   35           91            1.0         0.0   \n",
       "4              23   36            1            0.0         0.0   \n",
       "\n",
       "   browser_FireFox  browser_IE  browser_Opera  browser_Safari  sex_M  \n",
       "0              0.0         0.0            0.0             0.0    0.0  \n",
       "1              1.0         0.0            0.0             0.0    0.0  \n",
       "2              0.0         0.0            0.0             0.0    0.0  \n",
       "3              0.0         0.0            0.0             0.0    0.0  \n",
       "4              0.0         0.0            0.0             0.0    0.0  "
      ]
     },
     "execution_count": 70,
     "metadata": {},
     "output_type": "execute_result"
    }
   ],
   "source": [
    "x_train_new1.head()"
   ]
  },
  {
   "cell_type": "code",
   "execution_count": 71,
   "id": "85064a39",
   "metadata": {},
   "outputs": [],
   "source": [
    "#perform one hot encoder on test\n",
    "x_test_onehot= one_hot.fit_transform(x_test1[['source','browser','sex']])\n",
    "x_test_onehot1=pd.DataFrame(x_test_onehot,columns=one_hot.get_feature_names_out())\n",
    "x_test1=x_test1.reset_index(drop=True)\n",
    "x_test_new=pd.concat([x_test1,x_test_onehot1],axis=1)\n",
    "x_test_new1=x_test_new.drop(columns=['source','browser','sex'],axis=1)\n"
   ]
  },
  {
   "cell_type": "markdown",
   "id": "4fc62258",
   "metadata": {},
   "source": [
    "# normalization"
   ]
  },
  {
   "cell_type": "code",
   "execution_count": 72,
   "id": "6771e8fa",
   "metadata": {},
   "outputs": [],
   "source": [
    "#normalization\n",
    "from sklearn.preprocessing import MinMaxScaler\n",
    "norm=MinMaxScaler()"
   ]
  },
  {
   "cell_type": "code",
   "execution_count": 73,
   "id": "9f539bc0",
   "metadata": {},
   "outputs": [],
   "source": [
    "#normalization on train dataset\n",
    "x_train_new1[['purchase_value','age','time_to_buy']]=norm.fit_transform(x_train_new1[['purchase_value','age','time_to_buy']])\n"
   ]
  },
  {
   "cell_type": "code",
   "execution_count": 74,
   "id": "43739563",
   "metadata": {},
   "outputs": [],
   "source": [
    "#normalization on test\n",
    "x_test_new1[['purchase_value','age','time_to_buy']]=norm.transform(x_test_new1[['purchase_value','age','time_to_buy']])"
   ]
  },
  {
   "cell_type": "markdown",
   "id": "d63878d7",
   "metadata": {},
   "source": [
    "# model "
   ]
  },
  {
   "cell_type": "code",
   "execution_count": 39,
   "id": "d02053cb",
   "metadata": {},
   "outputs": [],
   "source": [
    "from sklearn.ensemble import RandomForestClassifier\n",
    "from sklearn import metrics"
   ]
  },
  {
   "cell_type": "code",
   "execution_count": 104,
   "id": "eb94ae30",
   "metadata": {},
   "outputs": [],
   "source": [
    "rf1 = RandomForestClassifier(n_estimators=200,\n",
    " min_samples_split=14,\n",
    " min_samples_leaf= 6,\n",
    " max_features='sqrt',\n",
    " max_depth=10,\n",
    " criterion='entropy')\n",
    "rf1.fit(x_train_new1,y_train1)\n",
    "y_pred1=rf1.predict(x_test_new1)"
   ]
  },
  {
   "cell_type": "code",
   "execution_count": 54,
   "id": "72541e6d",
   "metadata": {},
   "outputs": [
    {
     "data": {
      "text/plain": [
       "Index(['purchase_value', 'age', 'time_to_buy', 'source_Direct', 'source_SEO',\n",
       "       'browser_FireFox', 'browser_IE', 'browser_Opera', 'browser_Safari',\n",
       "       'sex_M'],\n",
       "      dtype='object')"
      ]
     },
     "execution_count": 54,
     "metadata": {},
     "output_type": "execute_result"
    }
   ],
   "source": [
    "x_train_new1.columns"
   ]
  },
  {
   "cell_type": "code",
   "execution_count": 105,
   "id": "3854ae1a",
   "metadata": {},
   "outputs": [
    {
     "name": "stdout",
     "output_type": "stream",
     "text": [
      "Evaluation Random forest classifier\n",
      "accuracy:0.5042986691791308\n"
     ]
    }
   ],
   "source": [
    "print(\"Evaluation Random forest classifier training dataset\")\n",
    "print(\"accuracy:\"+str(metrics.accuracy_score(y_test1,y_pred1)))"
   ]
  },
  {
   "cell_type": "code",
   "execution_count": 108,
   "id": "9e2ce40c",
   "metadata": {},
   "outputs": [
    {
     "name": "stdout",
     "output_type": "stream",
     "text": [
      "Evaluation Random forest classifier\n",
      "accuracy:0.7720458331230124\n"
     ]
    }
   ],
   "source": [
    "y_pred2=rf1.predict(x_train_new1)\n",
    "print(\"Evaluation Random forest classifier\")\n",
    "print(\"accuracy:\"+str(metrics.accuracy_score(y_train1,y_pred2)))"
   ]
  },
  {
   "cell_type": "markdown",
   "id": "074cbd91",
   "metadata": {},
   "source": [
    "# hyperparamter tuning"
   ]
  },
  {
   "cell_type": "code",
   "execution_count": 127,
   "id": "8c7631b6",
   "metadata": {},
   "outputs": [
    {
     "name": "stdout",
     "output_type": "stream",
     "text": [
      "{'n_estimators': [200, 400, 600, 800, 1000, 1200, 1400, 1600, 1800, 2000], 'max_features': ['auto', 'sqrt', 'log2'], 'max_depth': [10, 120, 230, 340, 450, 560, 670, 780, 890, 1000], 'min_samples_split': [2, 5, 10, 14], 'min_samples_leaf': [1, 2, 4, 6, 8], 'criterion': ['entropy', 'gini']}\n"
     ]
    }
   ],
   "source": [
    "import numpy as np\n",
    "from sklearn.model_selection import RandomizedSearchCV\n",
    "# Number of trees in random forest\n",
    "n_estimators = [int(x) for x in np.linspace(start = 200, stop = 2000, num = 10)]\n",
    "# Number of features to consider at every split\n",
    "max_features = ['auto', 'sqrt','log2']\n",
    "# Maximum number of levels in tree\n",
    "max_depth = [int(x) for x in np.linspace(10, 1000,10)]\n",
    "# Minimum number of samples required to split a node\n",
    "min_samples_split = [2, 5, 10,14]\n",
    "# Minimum number of samples required at each leaf node\n",
    "min_samples_leaf = [1, 2, 4,6,8]\n",
    "# Create the random grid\n",
    "random_grid = {'n_estimators': n_estimators,\n",
    "               'max_features': max_features,\n",
    "               'max_depth': max_depth,\n",
    "               'min_samples_split': min_samples_split,\n",
    "               'min_samples_leaf': min_samples_leaf,\n",
    "              'criterion':['entropy','gini']}\n",
    "print(random_grid)"
   ]
  },
  {
   "cell_type": "code",
   "execution_count": 99,
   "id": "05072522",
   "metadata": {},
   "outputs": [
    {
     "name": "stdout",
     "output_type": "stream",
     "text": [
      "Fitting 3 folds for each of 100 candidates, totalling 300 fits\n"
     ]
    },
    {
     "data": {
      "text/html": [
       "<style>#sk-container-id-1 {color: black;background-color: white;}#sk-container-id-1 pre{padding: 0;}#sk-container-id-1 div.sk-toggleable {background-color: white;}#sk-container-id-1 label.sk-toggleable__label {cursor: pointer;display: block;width: 100%;margin-bottom: 0;padding: 0.3em;box-sizing: border-box;text-align: center;}#sk-container-id-1 label.sk-toggleable__label-arrow:before {content: \"▸\";float: left;margin-right: 0.25em;color: #696969;}#sk-container-id-1 label.sk-toggleable__label-arrow:hover:before {color: black;}#sk-container-id-1 div.sk-estimator:hover label.sk-toggleable__label-arrow:before {color: black;}#sk-container-id-1 div.sk-toggleable__content {max-height: 0;max-width: 0;overflow: hidden;text-align: left;background-color: #f0f8ff;}#sk-container-id-1 div.sk-toggleable__content pre {margin: 0.2em;color: black;border-radius: 0.25em;background-color: #f0f8ff;}#sk-container-id-1 input.sk-toggleable__control:checked~div.sk-toggleable__content {max-height: 200px;max-width: 100%;overflow: auto;}#sk-container-id-1 input.sk-toggleable__control:checked~label.sk-toggleable__label-arrow:before {content: \"▾\";}#sk-container-id-1 div.sk-estimator input.sk-toggleable__control:checked~label.sk-toggleable__label {background-color: #d4ebff;}#sk-container-id-1 div.sk-label input.sk-toggleable__control:checked~label.sk-toggleable__label {background-color: #d4ebff;}#sk-container-id-1 input.sk-hidden--visually {border: 0;clip: rect(1px 1px 1px 1px);clip: rect(1px, 1px, 1px, 1px);height: 1px;margin: -1px;overflow: hidden;padding: 0;position: absolute;width: 1px;}#sk-container-id-1 div.sk-estimator {font-family: monospace;background-color: #f0f8ff;border: 1px dotted black;border-radius: 0.25em;box-sizing: border-box;margin-bottom: 0.5em;}#sk-container-id-1 div.sk-estimator:hover {background-color: #d4ebff;}#sk-container-id-1 div.sk-parallel-item::after {content: \"\";width: 100%;border-bottom: 1px solid gray;flex-grow: 1;}#sk-container-id-1 div.sk-label:hover label.sk-toggleable__label {background-color: #d4ebff;}#sk-container-id-1 div.sk-serial::before {content: \"\";position: absolute;border-left: 1px solid gray;box-sizing: border-box;top: 0;bottom: 0;left: 50%;z-index: 0;}#sk-container-id-1 div.sk-serial {display: flex;flex-direction: column;align-items: center;background-color: white;padding-right: 0.2em;padding-left: 0.2em;position: relative;}#sk-container-id-1 div.sk-item {position: relative;z-index: 1;}#sk-container-id-1 div.sk-parallel {display: flex;align-items: stretch;justify-content: center;background-color: white;position: relative;}#sk-container-id-1 div.sk-item::before, #sk-container-id-1 div.sk-parallel-item::before {content: \"\";position: absolute;border-left: 1px solid gray;box-sizing: border-box;top: 0;bottom: 0;left: 50%;z-index: -1;}#sk-container-id-1 div.sk-parallel-item {display: flex;flex-direction: column;z-index: 1;position: relative;background-color: white;}#sk-container-id-1 div.sk-parallel-item:first-child::after {align-self: flex-end;width: 50%;}#sk-container-id-1 div.sk-parallel-item:last-child::after {align-self: flex-start;width: 50%;}#sk-container-id-1 div.sk-parallel-item:only-child::after {width: 0;}#sk-container-id-1 div.sk-dashed-wrapped {border: 1px dashed gray;margin: 0 0.4em 0.5em 0.4em;box-sizing: border-box;padding-bottom: 0.4em;background-color: white;}#sk-container-id-1 div.sk-label label {font-family: monospace;font-weight: bold;display: inline-block;line-height: 1.2em;}#sk-container-id-1 div.sk-label-container {text-align: center;}#sk-container-id-1 div.sk-container {/* jupyter's `normalize.less` sets `[hidden] { display: none; }` but bootstrap.min.css set `[hidden] { display: none !important; }` so we also need the `!important` here to be able to override the default hidden behavior on the sphinx rendered scikit-learn.org. See: https://github.com/scikit-learn/scikit-learn/issues/21755 */display: inline-block !important;position: relative;}#sk-container-id-1 div.sk-text-repr-fallback {display: none;}</style><div id=\"sk-container-id-1\" class=\"sk-top-container\"><div class=\"sk-text-repr-fallback\"><pre>RandomizedSearchCV(cv=3, estimator=RandomForestClassifier(), n_iter=100,\n",
       "                   n_jobs=-1,\n",
       "                   param_distributions={&#x27;criterion&#x27;: [&#x27;entropy&#x27;, &#x27;gini&#x27;],\n",
       "                                        &#x27;max_depth&#x27;: [10, 120, 230, 340, 450,\n",
       "                                                      560, 670, 780, 890,\n",
       "                                                      1000],\n",
       "                                        &#x27;max_features&#x27;: [&#x27;auto&#x27;, &#x27;sqrt&#x27;,\n",
       "                                                         &#x27;log2&#x27;],\n",
       "                                        &#x27;min_samples_leaf&#x27;: [1, 2, 4, 6, 8],\n",
       "                                        &#x27;min_samples_split&#x27;: [2, 5, 10, 14],\n",
       "                                        &#x27;n_estimators&#x27;: [200, 400, 600, 800,\n",
       "                                                         1000, 1200, 1400, 1600,\n",
       "                                                         1800, 2000]},\n",
       "                   random_state=100, verbose=2)</pre><b>In a Jupyter environment, please rerun this cell to show the HTML representation or trust the notebook. <br />On GitHub, the HTML representation is unable to render, please try loading this page with nbviewer.org.</b></div><div class=\"sk-container\" hidden><div class=\"sk-item sk-dashed-wrapped\"><div class=\"sk-label-container\"><div class=\"sk-label sk-toggleable\"><input class=\"sk-toggleable__control sk-hidden--visually\" id=\"sk-estimator-id-1\" type=\"checkbox\" ><label for=\"sk-estimator-id-1\" class=\"sk-toggleable__label sk-toggleable__label-arrow\">RandomizedSearchCV</label><div class=\"sk-toggleable__content\"><pre>RandomizedSearchCV(cv=3, estimator=RandomForestClassifier(), n_iter=100,\n",
       "                   n_jobs=-1,\n",
       "                   param_distributions={&#x27;criterion&#x27;: [&#x27;entropy&#x27;, &#x27;gini&#x27;],\n",
       "                                        &#x27;max_depth&#x27;: [10, 120, 230, 340, 450,\n",
       "                                                      560, 670, 780, 890,\n",
       "                                                      1000],\n",
       "                                        &#x27;max_features&#x27;: [&#x27;auto&#x27;, &#x27;sqrt&#x27;,\n",
       "                                                         &#x27;log2&#x27;],\n",
       "                                        &#x27;min_samples_leaf&#x27;: [1, 2, 4, 6, 8],\n",
       "                                        &#x27;min_samples_split&#x27;: [2, 5, 10, 14],\n",
       "                                        &#x27;n_estimators&#x27;: [200, 400, 600, 800,\n",
       "                                                         1000, 1200, 1400, 1600,\n",
       "                                                         1800, 2000]},\n",
       "                   random_state=100, verbose=2)</pre></div></div></div><div class=\"sk-parallel\"><div class=\"sk-parallel-item\"><div class=\"sk-item\"><div class=\"sk-label-container\"><div class=\"sk-label sk-toggleable\"><input class=\"sk-toggleable__control sk-hidden--visually\" id=\"sk-estimator-id-2\" type=\"checkbox\" ><label for=\"sk-estimator-id-2\" class=\"sk-toggleable__label sk-toggleable__label-arrow\">estimator: RandomForestClassifier</label><div class=\"sk-toggleable__content\"><pre>RandomForestClassifier()</pre></div></div></div><div class=\"sk-serial\"><div class=\"sk-item\"><div class=\"sk-estimator sk-toggleable\"><input class=\"sk-toggleable__control sk-hidden--visually\" id=\"sk-estimator-id-3\" type=\"checkbox\" ><label for=\"sk-estimator-id-3\" class=\"sk-toggleable__label sk-toggleable__label-arrow\">RandomForestClassifier</label><div class=\"sk-toggleable__content\"><pre>RandomForestClassifier()</pre></div></div></div></div></div></div></div></div></div></div>"
      ],
      "text/plain": [
       "RandomizedSearchCV(cv=3, estimator=RandomForestClassifier(), n_iter=100,\n",
       "                   n_jobs=-1,\n",
       "                   param_distributions={'criterion': ['entropy', 'gini'],\n",
       "                                        'max_depth': [10, 120, 230, 340, 450,\n",
       "                                                      560, 670, 780, 890,\n",
       "                                                      1000],\n",
       "                                        'max_features': ['auto', 'sqrt',\n",
       "                                                         'log2'],\n",
       "                                        'min_samples_leaf': [1, 2, 4, 6, 8],\n",
       "                                        'min_samples_split': [2, 5, 10, 14],\n",
       "                                        'n_estimators': [200, 400, 600, 800,\n",
       "                                                         1000, 1200, 1400, 1600,\n",
       "                                                         1800, 2000]},\n",
       "                   random_state=100, verbose=2)"
      ]
     },
     "execution_count": 99,
     "metadata": {},
     "output_type": "execute_result"
    }
   ],
   "source": [
    "rf1=RandomForestClassifier()\n",
    "rf_randomcv=RandomizedSearchCV(estimator=rf1,param_distributions=random_grid,n_iter=100,cv=3,verbose=2,\n",
    "                               random_state=100,n_jobs=-1)\n",
    "### fit the randomized model\n",
    "rf_randomcv.fit(x_train_new1,y_train1)"
   ]
  },
  {
   "cell_type": "code",
   "execution_count": 100,
   "id": "9d2743c1",
   "metadata": {},
   "outputs": [
    {
     "data": {
      "text/plain": [
       "{'n_estimators': 200,\n",
       " 'min_samples_split': 14,\n",
       " 'min_samples_leaf': 6,\n",
       " 'max_features': 'sqrt',\n",
       " 'max_depth': 10,\n",
       " 'criterion': 'entropy'}"
      ]
     },
     "execution_count": 100,
     "metadata": {},
     "output_type": "execute_result"
    }
   ],
   "source": [
    "rf_randomcv.best_params_"
   ]
  },
  {
   "cell_type": "markdown",
   "id": "de69015c",
   "metadata": {},
   "source": [
    "# adaboost"
   ]
  },
  {
   "cell_type": "code",
   "execution_count": 81,
   "id": "db980db2",
   "metadata": {},
   "outputs": [],
   "source": [
    "#adabost\n",
    "from sklearn.ensemble import AdaBoostClassifier\n",
    "from sklearn import metrics\n",
    "adamodel=AdaBoostClassifier(n_estimators=200,learning_rate=1)"
   ]
  },
  {
   "cell_type": "code",
   "execution_count": 85,
   "id": "f84e0f20",
   "metadata": {},
   "outputs": [
    {
     "data": {
      "text/html": [
       "<style>#sk-container-id-3 {color: black;background-color: white;}#sk-container-id-3 pre{padding: 0;}#sk-container-id-3 div.sk-toggleable {background-color: white;}#sk-container-id-3 label.sk-toggleable__label {cursor: pointer;display: block;width: 100%;margin-bottom: 0;padding: 0.3em;box-sizing: border-box;text-align: center;}#sk-container-id-3 label.sk-toggleable__label-arrow:before {content: \"▸\";float: left;margin-right: 0.25em;color: #696969;}#sk-container-id-3 label.sk-toggleable__label-arrow:hover:before {color: black;}#sk-container-id-3 div.sk-estimator:hover label.sk-toggleable__label-arrow:before {color: black;}#sk-container-id-3 div.sk-toggleable__content {max-height: 0;max-width: 0;overflow: hidden;text-align: left;background-color: #f0f8ff;}#sk-container-id-3 div.sk-toggleable__content pre {margin: 0.2em;color: black;border-radius: 0.25em;background-color: #f0f8ff;}#sk-container-id-3 input.sk-toggleable__control:checked~div.sk-toggleable__content {max-height: 200px;max-width: 100%;overflow: auto;}#sk-container-id-3 input.sk-toggleable__control:checked~label.sk-toggleable__label-arrow:before {content: \"▾\";}#sk-container-id-3 div.sk-estimator input.sk-toggleable__control:checked~label.sk-toggleable__label {background-color: #d4ebff;}#sk-container-id-3 div.sk-label input.sk-toggleable__control:checked~label.sk-toggleable__label {background-color: #d4ebff;}#sk-container-id-3 input.sk-hidden--visually {border: 0;clip: rect(1px 1px 1px 1px);clip: rect(1px, 1px, 1px, 1px);height: 1px;margin: -1px;overflow: hidden;padding: 0;position: absolute;width: 1px;}#sk-container-id-3 div.sk-estimator {font-family: monospace;background-color: #f0f8ff;border: 1px dotted black;border-radius: 0.25em;box-sizing: border-box;margin-bottom: 0.5em;}#sk-container-id-3 div.sk-estimator:hover {background-color: #d4ebff;}#sk-container-id-3 div.sk-parallel-item::after {content: \"\";width: 100%;border-bottom: 1px solid gray;flex-grow: 1;}#sk-container-id-3 div.sk-label:hover label.sk-toggleable__label {background-color: #d4ebff;}#sk-container-id-3 div.sk-serial::before {content: \"\";position: absolute;border-left: 1px solid gray;box-sizing: border-box;top: 0;bottom: 0;left: 50%;z-index: 0;}#sk-container-id-3 div.sk-serial {display: flex;flex-direction: column;align-items: center;background-color: white;padding-right: 0.2em;padding-left: 0.2em;position: relative;}#sk-container-id-3 div.sk-item {position: relative;z-index: 1;}#sk-container-id-3 div.sk-parallel {display: flex;align-items: stretch;justify-content: center;background-color: white;position: relative;}#sk-container-id-3 div.sk-item::before, #sk-container-id-3 div.sk-parallel-item::before {content: \"\";position: absolute;border-left: 1px solid gray;box-sizing: border-box;top: 0;bottom: 0;left: 50%;z-index: -1;}#sk-container-id-3 div.sk-parallel-item {display: flex;flex-direction: column;z-index: 1;position: relative;background-color: white;}#sk-container-id-3 div.sk-parallel-item:first-child::after {align-self: flex-end;width: 50%;}#sk-container-id-3 div.sk-parallel-item:last-child::after {align-self: flex-start;width: 50%;}#sk-container-id-3 div.sk-parallel-item:only-child::after {width: 0;}#sk-container-id-3 div.sk-dashed-wrapped {border: 1px dashed gray;margin: 0 0.4em 0.5em 0.4em;box-sizing: border-box;padding-bottom: 0.4em;background-color: white;}#sk-container-id-3 div.sk-label label {font-family: monospace;font-weight: bold;display: inline-block;line-height: 1.2em;}#sk-container-id-3 div.sk-label-container {text-align: center;}#sk-container-id-3 div.sk-container {/* jupyter's `normalize.less` sets `[hidden] { display: none; }` but bootstrap.min.css set `[hidden] { display: none !important; }` so we also need the `!important` here to be able to override the default hidden behavior on the sphinx rendered scikit-learn.org. See: https://github.com/scikit-learn/scikit-learn/issues/21755 */display: inline-block !important;position: relative;}#sk-container-id-3 div.sk-text-repr-fallback {display: none;}</style><div id=\"sk-container-id-3\" class=\"sk-top-container\"><div class=\"sk-text-repr-fallback\"><pre>AdaBoostClassifier(learning_rate=1, n_estimators=200)</pre><b>In a Jupyter environment, please rerun this cell to show the HTML representation or trust the notebook. <br />On GitHub, the HTML representation is unable to render, please try loading this page with nbviewer.org.</b></div><div class=\"sk-container\" hidden><div class=\"sk-item\"><div class=\"sk-estimator sk-toggleable\"><input class=\"sk-toggleable__control sk-hidden--visually\" id=\"sk-estimator-id-3\" type=\"checkbox\" checked><label for=\"sk-estimator-id-3\" class=\"sk-toggleable__label sk-toggleable__label-arrow\">AdaBoostClassifier</label><div class=\"sk-toggleable__content\"><pre>AdaBoostClassifier(learning_rate=1, n_estimators=200)</pre></div></div></div></div></div>"
      ],
      "text/plain": [
       "AdaBoostClassifier(learning_rate=1, n_estimators=200)"
      ]
     },
     "execution_count": 85,
     "metadata": {},
     "output_type": "execute_result"
    }
   ],
   "source": [
    "adamodel.fit(x_train_new1,y_train1)"
   ]
  },
  {
   "cell_type": "code",
   "execution_count": 86,
   "id": "f3ae2654",
   "metadata": {},
   "outputs": [],
   "source": [
    "y_prod=adamodel.predict(x_test_new1)"
   ]
  },
  {
   "cell_type": "code",
   "execution_count": 87,
   "id": "25ff72c4",
   "metadata": {},
   "outputs": [
    {
     "name": "stdout",
     "output_type": "stream",
     "text": [
      "Evaluation Random forest classifier testing dataset\n",
      "accuracy:0.761041102343658\n"
     ]
    }
   ],
   "source": [
    "print(\"Evaluation Random forest classifier testing dataset\")\n",
    "print(\"accuracy:\"+str(metrics.accuracy_score(y_test1,y_prod)))"
   ]
  },
  {
   "cell_type": "code",
   "execution_count": 88,
   "id": "54db223c",
   "metadata": {},
   "outputs": [
    {
     "name": "stdout",
     "output_type": "stream",
     "text": [
      "Evaluation Random forest classifier training dataset\n",
      "accuracy:0.7695219827368633\n"
     ]
    }
   ],
   "source": [
    "y_prod_train=adamodel.predict(x_train_new1)\n",
    "print(\"Evaluation Random forest classifier training dataset\")\n",
    "print(\"accuracy:\"+str(metrics.accuracy_score(y_train1,y_prod_train)))"
   ]
  },
  {
   "cell_type": "code",
   "execution_count": null,
   "id": "084590fc",
   "metadata": {},
   "outputs": [],
   "source": [
    "#export pickle file of the model and minmax object\n",
    "# data entry - pd.get_dummies -- drop unwanted columns -- normalization- model predict\n"
   ]
  },
  {
   "cell_type": "code",
   "execution_count": 90,
   "id": "25c17f98",
   "metadata": {},
   "outputs": [],
   "source": [
    "import pickle\n",
    "with open('minmax.sav','wb') as f:\n",
    "    pickle.dump(norm,f)\n",
    "    \n",
    "\n",
    "with open('onehot.sav','wb') as f:\n",
    "    pickle.dump(one_hot,f)\n",
    "\n",
    "with open('adaboost.sav','wb') as f:\n",
    "    pickle.dump(adamodel,f)\n",
    "    \n"
   ]
  },
  {
   "cell_type": "code",
   "execution_count": 91,
   "id": "c6da1423",
   "metadata": {},
   "outputs": [],
   "source": [
    "!pip freeze > requirements.txt"
   ]
  },
  {
   "cell_type": "markdown",
   "id": "5f80991c",
   "metadata": {},
   "source": [
    "# lazy predict"
   ]
  },
  {
   "cell_type": "code",
   "execution_count": 42,
   "id": "d7a35570",
   "metadata": {},
   "outputs": [],
   "source": [
    "#................................"
   ]
  },
  {
   "cell_type": "code",
   "execution_count": 111,
   "id": "5acd191a",
   "metadata": {},
   "outputs": [],
   "source": [
    "import lazypredict\n",
    "from lazypredict.Supervised import LazyClassifier"
   ]
  },
  {
   "cell_type": "code",
   "execution_count": 112,
   "id": "235097db",
   "metadata": {},
   "outputs": [
    {
     "name": "stderr",
     "output_type": "stream",
     "text": [
      "100%|██████████████████████████████████████████████████████████████████████████████████| 29/29 [13:32<00:00, 28.01s/it]\n"
     ]
    }
   ],
   "source": [
    "clf=LazyClassifier(verbose=0,ignore_warnings=True)\n",
    "models,predictions=clf.fit(x_train_new1,x_test_new1,y_train1,y_test1)"
   ]
  },
  {
   "cell_type": "code",
   "execution_count": 113,
   "id": "b19f4722",
   "metadata": {},
   "outputs": [
    {
     "data": {
      "text/html": [
       "<div>\n",
       "<style scoped>\n",
       "    .dataframe tbody tr th:only-of-type {\n",
       "        vertical-align: middle;\n",
       "    }\n",
       "\n",
       "    .dataframe tbody tr th {\n",
       "        vertical-align: top;\n",
       "    }\n",
       "\n",
       "    .dataframe thead th {\n",
       "        text-align: right;\n",
       "    }\n",
       "</style>\n",
       "<table border=\"1\" class=\"dataframe\">\n",
       "  <thead>\n",
       "    <tr style=\"text-align: right;\">\n",
       "      <th></th>\n",
       "      <th>Accuracy</th>\n",
       "      <th>Balanced Accuracy</th>\n",
       "      <th>ROC AUC</th>\n",
       "      <th>F1 Score</th>\n",
       "      <th>Time Taken</th>\n",
       "    </tr>\n",
       "    <tr>\n",
       "      <th>Model</th>\n",
       "      <th></th>\n",
       "      <th></th>\n",
       "      <th></th>\n",
       "      <th></th>\n",
       "      <th></th>\n",
       "    </tr>\n",
       "  </thead>\n",
       "  <tbody>\n",
       "    <tr>\n",
       "      <th>AdaBoostClassifier</th>\n",
       "      <td>0.68</td>\n",
       "      <td>0.69</td>\n",
       "      <td>0.69</td>\n",
       "      <td>0.68</td>\n",
       "      <td>1.34</td>\n",
       "    </tr>\n",
       "    <tr>\n",
       "      <th>BernoulliNB</th>\n",
       "      <td>0.68</td>\n",
       "      <td>0.69</td>\n",
       "      <td>0.69</td>\n",
       "      <td>0.68</td>\n",
       "      <td>0.11</td>\n",
       "    </tr>\n",
       "    <tr>\n",
       "      <th>LinearDiscriminantAnalysis</th>\n",
       "      <td>0.67</td>\n",
       "      <td>0.67</td>\n",
       "      <td>0.67</td>\n",
       "      <td>0.67</td>\n",
       "      <td>0.21</td>\n",
       "    </tr>\n",
       "    <tr>\n",
       "      <th>RidgeClassifierCV</th>\n",
       "      <td>0.67</td>\n",
       "      <td>0.67</td>\n",
       "      <td>0.67</td>\n",
       "      <td>0.67</td>\n",
       "      <td>0.12</td>\n",
       "    </tr>\n",
       "    <tr>\n",
       "      <th>RidgeClassifier</th>\n",
       "      <td>0.67</td>\n",
       "      <td>0.67</td>\n",
       "      <td>0.67</td>\n",
       "      <td>0.67</td>\n",
       "      <td>0.10</td>\n",
       "    </tr>\n",
       "    <tr>\n",
       "      <th>LogisticRegression</th>\n",
       "      <td>0.67</td>\n",
       "      <td>0.67</td>\n",
       "      <td>0.67</td>\n",
       "      <td>0.67</td>\n",
       "      <td>0.12</td>\n",
       "    </tr>\n",
       "    <tr>\n",
       "      <th>LinearSVC</th>\n",
       "      <td>0.67</td>\n",
       "      <td>0.67</td>\n",
       "      <td>0.67</td>\n",
       "      <td>0.67</td>\n",
       "      <td>4.40</td>\n",
       "    </tr>\n",
       "    <tr>\n",
       "      <th>CalibratedClassifierCV</th>\n",
       "      <td>0.66</td>\n",
       "      <td>0.66</td>\n",
       "      <td>0.66</td>\n",
       "      <td>0.66</td>\n",
       "      <td>14.50</td>\n",
       "    </tr>\n",
       "    <tr>\n",
       "      <th>NearestCentroid</th>\n",
       "      <td>0.66</td>\n",
       "      <td>0.66</td>\n",
       "      <td>0.66</td>\n",
       "      <td>0.66</td>\n",
       "      <td>0.08</td>\n",
       "    </tr>\n",
       "    <tr>\n",
       "      <th>GaussianNB</th>\n",
       "      <td>0.57</td>\n",
       "      <td>0.57</td>\n",
       "      <td>0.57</td>\n",
       "      <td>0.48</td>\n",
       "      <td>0.08</td>\n",
       "    </tr>\n",
       "    <tr>\n",
       "      <th>RandomForestClassifier</th>\n",
       "      <td>0.55</td>\n",
       "      <td>0.55</td>\n",
       "      <td>0.55</td>\n",
       "      <td>0.53</td>\n",
       "      <td>3.97</td>\n",
       "    </tr>\n",
       "    <tr>\n",
       "      <th>LGBMClassifier</th>\n",
       "      <td>0.54</td>\n",
       "      <td>0.55</td>\n",
       "      <td>0.55</td>\n",
       "      <td>0.46</td>\n",
       "      <td>0.38</td>\n",
       "    </tr>\n",
       "    <tr>\n",
       "      <th>QuadraticDiscriminantAnalysis</th>\n",
       "      <td>0.54</td>\n",
       "      <td>0.54</td>\n",
       "      <td>0.54</td>\n",
       "      <td>0.42</td>\n",
       "      <td>0.10</td>\n",
       "    </tr>\n",
       "    <tr>\n",
       "      <th>Perceptron</th>\n",
       "      <td>0.52</td>\n",
       "      <td>0.52</td>\n",
       "      <td>0.52</td>\n",
       "      <td>0.51</td>\n",
       "      <td>0.06</td>\n",
       "    </tr>\n",
       "    <tr>\n",
       "      <th>ExtraTreesClassifier</th>\n",
       "      <td>0.52</td>\n",
       "      <td>0.52</td>\n",
       "      <td>0.52</td>\n",
       "      <td>0.40</td>\n",
       "      <td>4.33</td>\n",
       "    </tr>\n",
       "    <tr>\n",
       "      <th>XGBClassifier</th>\n",
       "      <td>0.52</td>\n",
       "      <td>0.52</td>\n",
       "      <td>0.52</td>\n",
       "      <td>0.41</td>\n",
       "      <td>1.41</td>\n",
       "    </tr>\n",
       "    <tr>\n",
       "      <th>KNeighborsClassifier</th>\n",
       "      <td>0.50</td>\n",
       "      <td>0.51</td>\n",
       "      <td>0.51</td>\n",
       "      <td>0.35</td>\n",
       "      <td>1.25</td>\n",
       "    </tr>\n",
       "    <tr>\n",
       "      <th>BaggingClassifier</th>\n",
       "      <td>0.50</td>\n",
       "      <td>0.51</td>\n",
       "      <td>0.51</td>\n",
       "      <td>0.35</td>\n",
       "      <td>0.90</td>\n",
       "    </tr>\n",
       "    <tr>\n",
       "      <th>DummyClassifier</th>\n",
       "      <td>0.50</td>\n",
       "      <td>0.50</td>\n",
       "      <td>0.50</td>\n",
       "      <td>0.33</td>\n",
       "      <td>0.06</td>\n",
       "    </tr>\n",
       "    <tr>\n",
       "      <th>NuSVC</th>\n",
       "      <td>0.50</td>\n",
       "      <td>0.50</td>\n",
       "      <td>0.50</td>\n",
       "      <td>0.33</td>\n",
       "      <td>158.78</td>\n",
       "    </tr>\n",
       "    <tr>\n",
       "      <th>LabelSpreading</th>\n",
       "      <td>0.50</td>\n",
       "      <td>0.50</td>\n",
       "      <td>0.50</td>\n",
       "      <td>0.33</td>\n",
       "      <td>422.49</td>\n",
       "    </tr>\n",
       "    <tr>\n",
       "      <th>LabelPropagation</th>\n",
       "      <td>0.50</td>\n",
       "      <td>0.50</td>\n",
       "      <td>0.50</td>\n",
       "      <td>0.33</td>\n",
       "      <td>136.68</td>\n",
       "    </tr>\n",
       "    <tr>\n",
       "      <th>SVC</th>\n",
       "      <td>0.50</td>\n",
       "      <td>0.50</td>\n",
       "      <td>0.50</td>\n",
       "      <td>0.33</td>\n",
       "      <td>60.02</td>\n",
       "    </tr>\n",
       "    <tr>\n",
       "      <th>ExtraTreeClassifier</th>\n",
       "      <td>0.49</td>\n",
       "      <td>0.50</td>\n",
       "      <td>0.50</td>\n",
       "      <td>0.42</td>\n",
       "      <td>0.12</td>\n",
       "    </tr>\n",
       "    <tr>\n",
       "      <th>SGDClassifier</th>\n",
       "      <td>0.43</td>\n",
       "      <td>0.43</td>\n",
       "      <td>0.43</td>\n",
       "      <td>0.36</td>\n",
       "      <td>0.23</td>\n",
       "    </tr>\n",
       "    <tr>\n",
       "      <th>PassiveAggressiveClassifier</th>\n",
       "      <td>0.42</td>\n",
       "      <td>0.42</td>\n",
       "      <td>0.42</td>\n",
       "      <td>0.36</td>\n",
       "      <td>0.12</td>\n",
       "    </tr>\n",
       "    <tr>\n",
       "      <th>DecisionTreeClassifier</th>\n",
       "      <td>0.34</td>\n",
       "      <td>0.34</td>\n",
       "      <td>0.34</td>\n",
       "      <td>0.34</td>\n",
       "      <td>0.22</td>\n",
       "    </tr>\n",
       "  </tbody>\n",
       "</table>\n",
       "</div>"
      ],
      "text/plain": [
       "                               Accuracy  Balanced Accuracy  ROC AUC  F1 Score  \\\n",
       "Model                                                                           \n",
       "AdaBoostClassifier                 0.68               0.69     0.69      0.68   \n",
       "BernoulliNB                        0.68               0.69     0.69      0.68   \n",
       "LinearDiscriminantAnalysis         0.67               0.67     0.67      0.67   \n",
       "RidgeClassifierCV                  0.67               0.67     0.67      0.67   \n",
       "RidgeClassifier                    0.67               0.67     0.67      0.67   \n",
       "LogisticRegression                 0.67               0.67     0.67      0.67   \n",
       "LinearSVC                          0.67               0.67     0.67      0.67   \n",
       "CalibratedClassifierCV             0.66               0.66     0.66      0.66   \n",
       "NearestCentroid                    0.66               0.66     0.66      0.66   \n",
       "GaussianNB                         0.57               0.57     0.57      0.48   \n",
       "RandomForestClassifier             0.55               0.55     0.55      0.53   \n",
       "LGBMClassifier                     0.54               0.55     0.55      0.46   \n",
       "QuadraticDiscriminantAnalysis      0.54               0.54     0.54      0.42   \n",
       "Perceptron                         0.52               0.52     0.52      0.51   \n",
       "ExtraTreesClassifier               0.52               0.52     0.52      0.40   \n",
       "XGBClassifier                      0.52               0.52     0.52      0.41   \n",
       "KNeighborsClassifier               0.50               0.51     0.51      0.35   \n",
       "BaggingClassifier                  0.50               0.51     0.51      0.35   \n",
       "DummyClassifier                    0.50               0.50     0.50      0.33   \n",
       "NuSVC                              0.50               0.50     0.50      0.33   \n",
       "LabelSpreading                     0.50               0.50     0.50      0.33   \n",
       "LabelPropagation                   0.50               0.50     0.50      0.33   \n",
       "SVC                                0.50               0.50     0.50      0.33   \n",
       "ExtraTreeClassifier                0.49               0.50     0.50      0.42   \n",
       "SGDClassifier                      0.43               0.43     0.43      0.36   \n",
       "PassiveAggressiveClassifier        0.42               0.42     0.42      0.36   \n",
       "DecisionTreeClassifier             0.34               0.34     0.34      0.34   \n",
       "\n",
       "                               Time Taken  \n",
       "Model                                      \n",
       "AdaBoostClassifier                   1.34  \n",
       "BernoulliNB                          0.11  \n",
       "LinearDiscriminantAnalysis           0.21  \n",
       "RidgeClassifierCV                    0.12  \n",
       "RidgeClassifier                      0.10  \n",
       "LogisticRegression                   0.12  \n",
       "LinearSVC                            4.40  \n",
       "CalibratedClassifierCV              14.50  \n",
       "NearestCentroid                      0.08  \n",
       "GaussianNB                           0.08  \n",
       "RandomForestClassifier               3.97  \n",
       "LGBMClassifier                       0.38  \n",
       "QuadraticDiscriminantAnalysis        0.10  \n",
       "Perceptron                           0.06  \n",
       "ExtraTreesClassifier                 4.33  \n",
       "XGBClassifier                        1.41  \n",
       "KNeighborsClassifier                 1.25  \n",
       "BaggingClassifier                    0.90  \n",
       "DummyClassifier                      0.06  \n",
       "NuSVC                              158.78  \n",
       "LabelSpreading                     422.49  \n",
       "LabelPropagation                   136.68  \n",
       "SVC                                 60.02  \n",
       "ExtraTreeClassifier                  0.12  \n",
       "SGDClassifier                        0.23  \n",
       "PassiveAggressiveClassifier          0.12  \n",
       "DecisionTreeClassifier               0.22  "
      ]
     },
     "execution_count": 113,
     "metadata": {},
     "output_type": "execute_result"
    }
   ],
   "source": [
    "models"
   ]
  },
  {
   "cell_type": "code",
   "execution_count": null,
   "id": "4eb78b96",
   "metadata": {},
   "outputs": [],
   "source": [
    "........................................"
   ]
  },
  {
   "cell_type": "markdown",
   "id": "0ce5f08c",
   "metadata": {},
   "source": [
    "# Normal with no handle of imbalanced"
   ]
  },
  {
   "cell_type": "code",
   "execution_count": null,
   "id": "87cb1821",
   "metadata": {},
   "outputs": [],
   "source": []
  },
  {
   "cell_type": "code",
   "execution_count": 22,
   "id": "0b7ffe04",
   "metadata": {},
   "outputs": [],
   "source": [
    "from sklearn.ensemble import RandomForestClassifier\n",
    "from sklearn import metrics"
   ]
  },
  {
   "cell_type": "code",
   "execution_count": 23,
   "id": "1f340228",
   "metadata": {},
   "outputs": [],
   "source": [
    "x_train,x_test,y_train,y_test = train_test_split(x,y,test_size=0.3,random_state=0)"
   ]
  },
  {
   "cell_type": "code",
   "execution_count": 24,
   "id": "b9b3ded0",
   "metadata": {},
   "outputs": [],
   "source": [
    "x_train = pd.get_dummies(x_train,columns=['source','browser','sex'],drop_first=True)\n"
   ]
  },
  {
   "cell_type": "code",
   "execution_count": 25,
   "id": "2524d7e9",
   "metadata": {},
   "outputs": [],
   "source": [
    "x_train.drop(labels=['user_id','signup_time','purchase_time','device_id','ip_address'],axis=1,inplace=True)"
   ]
  },
  {
   "cell_type": "code",
   "execution_count": 26,
   "id": "77c66a58",
   "metadata": {},
   "outputs": [
    {
     "data": {
      "text/html": [
       "<div>\n",
       "<style scoped>\n",
       "    .dataframe tbody tr th:only-of-type {\n",
       "        vertical-align: middle;\n",
       "    }\n",
       "\n",
       "    .dataframe tbody tr th {\n",
       "        vertical-align: top;\n",
       "    }\n",
       "\n",
       "    .dataframe thead th {\n",
       "        text-align: right;\n",
       "    }\n",
       "</style>\n",
       "<table border=\"1\" class=\"dataframe\">\n",
       "  <thead>\n",
       "    <tr style=\"text-align: right;\">\n",
       "      <th></th>\n",
       "      <th>purchase_value</th>\n",
       "      <th>age</th>\n",
       "      <th>source_Direct</th>\n",
       "      <th>source_SEO</th>\n",
       "      <th>browser_FireFox</th>\n",
       "      <th>browser_IE</th>\n",
       "      <th>browser_Opera</th>\n",
       "      <th>browser_Safari</th>\n",
       "      <th>sex_M</th>\n",
       "    </tr>\n",
       "  </thead>\n",
       "  <tbody>\n",
       "    <tr>\n",
       "      <th>99985</th>\n",
       "      <td>55</td>\n",
       "      <td>27</td>\n",
       "      <td>1</td>\n",
       "      <td>0</td>\n",
       "      <td>0</td>\n",
       "      <td>0</td>\n",
       "      <td>0</td>\n",
       "      <td>1</td>\n",
       "      <td>1</td>\n",
       "    </tr>\n",
       "    <tr>\n",
       "      <th>117490</th>\n",
       "      <td>34</td>\n",
       "      <td>23</td>\n",
       "      <td>0</td>\n",
       "      <td>0</td>\n",
       "      <td>0</td>\n",
       "      <td>0</td>\n",
       "      <td>0</td>\n",
       "      <td>0</td>\n",
       "      <td>1</td>\n",
       "    </tr>\n",
       "    <tr>\n",
       "      <th>81223</th>\n",
       "      <td>19</td>\n",
       "      <td>38</td>\n",
       "      <td>1</td>\n",
       "      <td>0</td>\n",
       "      <td>0</td>\n",
       "      <td>1</td>\n",
       "      <td>0</td>\n",
       "      <td>0</td>\n",
       "      <td>0</td>\n",
       "    </tr>\n",
       "    <tr>\n",
       "      <th>116199</th>\n",
       "      <td>23</td>\n",
       "      <td>40</td>\n",
       "      <td>0</td>\n",
       "      <td>1</td>\n",
       "      <td>1</td>\n",
       "      <td>0</td>\n",
       "      <td>0</td>\n",
       "      <td>0</td>\n",
       "      <td>1</td>\n",
       "    </tr>\n",
       "    <tr>\n",
       "      <th>985</th>\n",
       "      <td>16</td>\n",
       "      <td>29</td>\n",
       "      <td>0</td>\n",
       "      <td>1</td>\n",
       "      <td>0</td>\n",
       "      <td>0</td>\n",
       "      <td>0</td>\n",
       "      <td>0</td>\n",
       "      <td>1</td>\n",
       "    </tr>\n",
       "  </tbody>\n",
       "</table>\n",
       "</div>"
      ],
      "text/plain": [
       "        purchase_value  age  source_Direct  source_SEO  browser_FireFox  \\\n",
       "99985               55   27              1           0                0   \n",
       "117490              34   23              0           0                0   \n",
       "81223               19   38              1           0                0   \n",
       "116199              23   40              0           1                1   \n",
       "985                 16   29              0           1                0   \n",
       "\n",
       "        browser_IE  browser_Opera  browser_Safari  sex_M  \n",
       "99985            0              0               1      1  \n",
       "117490           0              0               0      1  \n",
       "81223            1              0               0      0  \n",
       "116199           0              0               0      1  \n",
       "985              0              0               0      1  "
      ]
     },
     "execution_count": 26,
     "metadata": {},
     "output_type": "execute_result"
    }
   ],
   "source": [
    "x_train.head()"
   ]
  },
  {
   "cell_type": "code",
   "execution_count": 27,
   "id": "42148845",
   "metadata": {},
   "outputs": [],
   "source": [
    "x_test = pd.get_dummies(x_test,columns=['source','browser','sex'],drop_first=True)\n",
    "x_test.drop(labels=['user_id','signup_time','purchase_time','device_id','ip_address'],axis=1,inplace=True)"
   ]
  },
  {
   "cell_type": "code",
   "execution_count": 28,
   "id": "ce889ea1",
   "metadata": {},
   "outputs": [
    {
     "data": {
      "text/html": [
       "<div>\n",
       "<style scoped>\n",
       "    .dataframe tbody tr th:only-of-type {\n",
       "        vertical-align: middle;\n",
       "    }\n",
       "\n",
       "    .dataframe tbody tr th {\n",
       "        vertical-align: top;\n",
       "    }\n",
       "\n",
       "    .dataframe thead th {\n",
       "        text-align: right;\n",
       "    }\n",
       "</style>\n",
       "<table border=\"1\" class=\"dataframe\">\n",
       "  <thead>\n",
       "    <tr style=\"text-align: right;\">\n",
       "      <th></th>\n",
       "      <th>purchase_value</th>\n",
       "      <th>age</th>\n",
       "      <th>source_Direct</th>\n",
       "      <th>source_SEO</th>\n",
       "      <th>browser_FireFox</th>\n",
       "      <th>browser_IE</th>\n",
       "      <th>browser_Opera</th>\n",
       "      <th>browser_Safari</th>\n",
       "      <th>sex_M</th>\n",
       "    </tr>\n",
       "  </thead>\n",
       "  <tbody>\n",
       "    <tr>\n",
       "      <th>134812</th>\n",
       "      <td>22</td>\n",
       "      <td>32</td>\n",
       "      <td>0</td>\n",
       "      <td>1</td>\n",
       "      <td>1</td>\n",
       "      <td>0</td>\n",
       "      <td>0</td>\n",
       "      <td>0</td>\n",
       "      <td>0</td>\n",
       "    </tr>\n",
       "    <tr>\n",
       "      <th>28562</th>\n",
       "      <td>38</td>\n",
       "      <td>32</td>\n",
       "      <td>0</td>\n",
       "      <td>1</td>\n",
       "      <td>0</td>\n",
       "      <td>0</td>\n",
       "      <td>0</td>\n",
       "      <td>0</td>\n",
       "      <td>1</td>\n",
       "    </tr>\n",
       "    <tr>\n",
       "      <th>118173</th>\n",
       "      <td>60</td>\n",
       "      <td>19</td>\n",
       "      <td>0</td>\n",
       "      <td>1</td>\n",
       "      <td>0</td>\n",
       "      <td>0</td>\n",
       "      <td>0</td>\n",
       "      <td>0</td>\n",
       "      <td>1</td>\n",
       "    </tr>\n",
       "    <tr>\n",
       "      <th>29561</th>\n",
       "      <td>13</td>\n",
       "      <td>34</td>\n",
       "      <td>0</td>\n",
       "      <td>1</td>\n",
       "      <td>1</td>\n",
       "      <td>0</td>\n",
       "      <td>0</td>\n",
       "      <td>0</td>\n",
       "      <td>0</td>\n",
       "    </tr>\n",
       "    <tr>\n",
       "      <th>150638</th>\n",
       "      <td>56</td>\n",
       "      <td>27</td>\n",
       "      <td>0</td>\n",
       "      <td>1</td>\n",
       "      <td>0</td>\n",
       "      <td>1</td>\n",
       "      <td>0</td>\n",
       "      <td>0</td>\n",
       "      <td>1</td>\n",
       "    </tr>\n",
       "  </tbody>\n",
       "</table>\n",
       "</div>"
      ],
      "text/plain": [
       "        purchase_value  age  source_Direct  source_SEO  browser_FireFox  \\\n",
       "134812              22   32              0           1                1   \n",
       "28562               38   32              0           1                0   \n",
       "118173              60   19              0           1                0   \n",
       "29561               13   34              0           1                1   \n",
       "150638              56   27              0           1                0   \n",
       "\n",
       "        browser_IE  browser_Opera  browser_Safari  sex_M  \n",
       "134812           0              0               0      0  \n",
       "28562            0              0               0      1  \n",
       "118173           0              0               0      1  \n",
       "29561            0              0               0      0  \n",
       "150638           1              0               0      1  "
      ]
     },
     "execution_count": 28,
     "metadata": {},
     "output_type": "execute_result"
    }
   ],
   "source": [
    "x_test.head()"
   ]
  },
  {
   "cell_type": "code",
   "execution_count": 29,
   "id": "b44c2f2b",
   "metadata": {},
   "outputs": [],
   "source": [
    "#normalization\n",
    "from sklearn.preprocessing import MinMaxScaler\n",
    "norm0=MinMaxScaler()\n",
    "norm0=MinMaxScaler().fit(x_train)\n"
   ]
  },
  {
   "cell_type": "code",
   "execution_count": 30,
   "id": "cd8c945f",
   "metadata": {},
   "outputs": [],
   "source": [
    "x_train_norm0=norm0.transform(x_train)\n",
    "x_test_norm0=norm0.transform(x_test)"
   ]
  },
  {
   "cell_type": "code",
   "execution_count": 31,
   "id": "2759272c",
   "metadata": {},
   "outputs": [
    {
     "data": {
      "text/plain": [
       "(105778, 9)"
      ]
     },
     "execution_count": 31,
     "metadata": {},
     "output_type": "execute_result"
    }
   ],
   "source": [
    "x_train_norm0.shape"
   ]
  },
  {
   "cell_type": "code",
   "execution_count": 32,
   "id": "42402720",
   "metadata": {},
   "outputs": [
    {
     "data": {
      "text/plain": [
       "(105778,)"
      ]
     },
     "execution_count": 32,
     "metadata": {},
     "output_type": "execute_result"
    }
   ],
   "source": [
    "y_train.shape"
   ]
  },
  {
   "cell_type": "code",
   "execution_count": 33,
   "id": "55c6ae2e",
   "metadata": {},
   "outputs": [
    {
     "data": {
      "text/plain": [
       "RandomForestClassifier()"
      ]
     },
     "execution_count": 33,
     "metadata": {},
     "output_type": "execute_result"
    }
   ],
   "source": [
    "rf = RandomForestClassifier()\n",
    "rf.fit(x_train_norm0,y_train)\n"
   ]
  },
  {
   "cell_type": "code",
   "execution_count": 34,
   "id": "f2105c28",
   "metadata": {},
   "outputs": [],
   "source": [
    "y_pred1=rf.predict(x_test_norm0)"
   ]
  },
  {
   "cell_type": "code",
   "execution_count": 35,
   "id": "943de30d",
   "metadata": {},
   "outputs": [
    {
     "name": "stdout",
     "output_type": "stream",
     "text": [
      "Evaluation Random forest classifier\n",
      "accuracy:0.9209864560815282\n"
     ]
    }
   ],
   "source": [
    "print(\"Evaluation Random forest classifier\")\n",
    "print(\"accuracy:\"+str(metrics.accuracy_score(y_test,y_pred1)))"
   ]
  },
  {
   "cell_type": "code",
   "execution_count": null,
   "id": "2c28e8e6",
   "metadata": {},
   "outputs": [],
   "source": [
    "#one hot encoder\n",
    "#normalization\n",
    "#model to pickle\n"
   ]
  }
 ],
 "metadata": {
  "kernelspec": {
   "display_name": "Python 3",
   "language": "python",
   "name": "python3"
  },
  "language_info": {
   "codemirror_mode": {
    "name": "ipython",
    "version": 3
   },
   "file_extension": ".py",
   "mimetype": "text/x-python",
   "name": "python",
   "nbconvert_exporter": "python",
   "pygments_lexer": "ipython3",
   "version": "3.8.8"
  }
 },
 "nbformat": 4,
 "nbformat_minor": 5
}
